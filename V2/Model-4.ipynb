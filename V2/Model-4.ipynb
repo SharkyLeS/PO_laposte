{
 "cells": [
  {
   "cell_type": "markdown",
   "metadata": {},
   "source": [
    "## Reshape des inputs"
   ]
  },
  {
   "cell_type": "markdown",
   "metadata": {},
   "source": [
    "Imports"
   ]
  },
  {
   "cell_type": "code",
   "execution_count": 7,
   "metadata": {},
   "outputs": [],
   "source": [
    "import pandas as pd\n",
    "import numpy as np\n",
    "from sklearn.model_selection import train_test_split\n",
    "import time"
   ]
  },
  {
   "cell_type": "markdown",
   "metadata": {},
   "source": [
    "Chargement des données"
   ]
  },
  {
   "cell_type": "code",
   "execution_count": 8,
   "metadata": {},
   "outputs": [],
   "source": [
    "data = pd.read_pickle(r\"C:\\Users\\quent\\Documents\\IMTA3\\PO\\V2\\Inputs\\group5min_inputs.pkl\")"
   ]
  },
  {
   "cell_type": "markdown",
   "metadata": {},
   "source": [
    "Paramètres pour le reshape des inputs"
   ]
  },
  {
   "cell_type": "code",
   "execution_count": 9,
   "metadata": {},
   "outputs": [],
   "source": [
    "# Paramètre : Regroupement des données pour les input\n",
    "## A indicer sur les données en sortie de input generation\n",
    "step_group = \"5min\"\n",
    "\n",
    "## A ajuster\n",
    "\n",
    "# Paramètre : Intervalle de temps pour une ligne d'entrainement\n",
    "delta_train = \"1h\"\n",
    "\n",
    "# Paramètre : intervalle de temps sur lequel on souhaite faire une prédiction à une date donnée\n",
    "delta_prediction = \"5min\"\n",
    "\n",
    "# Paramètre : temps de window slide pour chaque nouvelle inpute\n",
    "window_slide = \"5min\""
   ]
  },
  {
   "cell_type": "markdown",
   "metadata": {},
   "source": [
    "Indices pour sélection les lignes"
   ]
  },
  {
   "cell_type": "code",
   "execution_count": 10,
   "metadata": {},
   "outputs": [],
   "source": [
    "index_delta_train = pd.Timedelta(delta_train).seconds // pd.Timedelta(step_group).seconds\n",
    "index_delta_prediction = pd.Timedelta(delta_prediction).seconds // pd.Timedelta(step_group).seconds\n",
    "index_window_slide = pd.Timedelta(window_slide).seconds // pd.Timedelta(step_group).seconds"
   ]
  },
  {
   "cell_type": "markdown",
   "metadata": {},
   "source": [
    "Initialisation des listes vide"
   ]
  },
  {
   "cell_type": "code",
   "execution_count": 11,
   "metadata": {},
   "outputs": [],
   "source": [
    "X = list()\n",
    "y = list()"
   ]
  },
  {
   "cell_type": "markdown",
   "metadata": {},
   "source": [
    "Ajout des variables d'entrainement dans ces listes"
   ]
  },
  {
   "cell_type": "code",
   "execution_count": 12,
   "metadata": {},
   "outputs": [
    {
     "name": "stdout",
     "output_type": "stream",
     "text": [
      "Temps d'exécution : 1.1e+02 s\n"
     ]
    }
   ],
   "source": [
    "start = time.time()\n",
    "\n",
    "index = 0\n",
    "\n",
    "while (index + index_delta_train < data.shape[0]) and (index+index_delta_prediction < data.shape[0]):\n",
    "    index_end = index+index_delta_train\n",
    "    X.append(list(data.iloc[index:index_end].values))\n",
    "    y.append(list(data.iloc[index_end:index_end+index_delta_prediction, 1:-(7+12)].sum().values))\n",
    "    index += index_window_slide\n",
    "    \n",
    "print(\"Temps d'exécution : {:.2} s\".format(time.time()-start))"
   ]
  },
  {
   "cell_type": "markdown",
   "metadata": {},
   "source": [
    "On passe les variables au format numpy array"
   ]
  },
  {
   "cell_type": "code",
   "execution_count": 13,
   "metadata": {},
   "outputs": [],
   "source": [
    "X = np.array(X)\n",
    "y = np.array(y)"
   ]
  },
  {
   "cell_type": "markdown",
   "metadata": {},
   "source": [
    "Séparation des données entre le training set (90%) et le test set (10%)"
   ]
  },
  {
   "cell_type": "code",
   "execution_count": 14,
   "metadata": {},
   "outputs": [],
   "source": [
    "# Test set\n",
    "X_trainval, X_test, y_trainval, y_test = train_test_split(X, y, test_size=0.1, random_state=1)\n",
    "\n",
    "date_test = X_test[:,:,0].flatten()\n",
    "X_test = np.delete(X_test, 0, axis=2)\n",
    "\n",
    "\n",
    "# Train and dev set\n",
    "X_train, X_val, y_train, y_val = train_test_split(X_trainval, y_trainval, test_size=0.1, random_state=1)\n",
    "\n",
    "date_train = X_train[:,:,0].flatten()\n",
    "X_train = np.delete(X_train, 0, axis=2)\n",
    "\n",
    "date_val = X_val[:,:,0].flatten()\n",
    "X_val = np.delete(X_val, 0, axis=2)"
   ]
  },
  {
   "cell_type": "markdown",
   "metadata": {},
   "source": [
    "## Model"
   ]
  },
  {
   "cell_type": "markdown",
   "metadata": {},
   "source": [
    "Import des librairies"
   ]
  },
  {
   "cell_type": "code",
   "execution_count": 15,
   "metadata": {},
   "outputs": [],
   "source": [
    "from datetime import datetime"
   ]
  },
  {
   "cell_type": "markdown",
   "metadata": {},
   "source": [
    "Données d'architecture du LSTM"
   ]
  },
  {
   "cell_type": "code",
   "execution_count": 16,
   "metadata": {},
   "outputs": [
    {
     "data": {
      "text/plain": [
       "80171"
      ]
     },
     "execution_count": 16,
     "metadata": {},
     "output_type": "execute_result"
    }
   ],
   "source": [
    "nb_inputs = X_train.shape[0]\n",
    "nb_steps = X_train.shape[1]\n",
    "nb_features = X_train.shape[2]\n",
    "\n",
    "nb_inputs"
   ]
  },
  {
   "cell_type": "markdown",
   "metadata": {},
   "source": [
    "## Keras"
   ]
  },
  {
   "cell_type": "code",
   "execution_count": 17,
   "metadata": {},
   "outputs": [
    {
     "name": "stderr",
     "output_type": "stream",
     "text": [
      "Using TensorFlow backend.\n"
     ]
    }
   ],
   "source": [
    "from keras.models import Sequential\n",
    "from keras.layers import LSTM\n",
    "from keras.layers import Dense\n",
    "from keras.metrics import top_k_categorical_accuracy\n",
    "from keras.callbacks import ModelCheckpoint\n",
    "from keras.models import load_model\n",
    "import keras\n",
    "import keras.backend as K\n",
    "import tensorflow as tf\n",
    "\n",
    "from livelossplot import PlotLossesKeras\n",
    "\n",
    "# Load the TensorBoard notebook extension\n",
    "%load_ext tensorboard"
   ]
  },
  {
   "cell_type": "code",
   "execution_count": 18,
   "metadata": {},
   "outputs": [],
   "source": [
    "nb_steps = X_train.shape[1]\n",
    "nb_features = X_train.shape[2]\n",
    "nb_hidden_units = 250\n",
    "batch_size = 256\n",
    "\n",
    "out_shape = y_train.shape[1]"
   ]
  },
  {
   "cell_type": "markdown",
   "metadata": {},
   "source": [
    "Metric to evaluate model"
   ]
  },
  {
   "cell_type": "code",
   "execution_count": 19,
   "metadata": {},
   "outputs": [],
   "source": [
    "def count_by_row(t):\n",
    "    y, idx, count = tf.unique_with_counts(t)\n",
    "    return K.sum(count-1)\n",
    "\n",
    "def metric_top_10(y_true, y_pred):\n",
    "    _, ind_pred = tf.nn.top_k(y_pred, k=10, sorted=True, name=None)\n",
    "    _, ind_true = tf.nn.top_k(y_true, k=10, sorted=True, name=None)\n",
    "\n",
    "    count = tf.map_fn(count_by_row, tf.concat([ind_pred, ind_true], 1))\n",
    "    return K.mean(count)\n",
    "    # return tf.round(tf.reduce_mean(count), 3)"
   ]
  },
  {
   "cell_type": "code",
   "execution_count": null,
   "metadata": {
    "scrolled": true
   },
   "outputs": [
    {
     "name": "stdout",
     "output_type": "stream",
     "text": [
      "Model: \"sequential_1\"\n",
      "_________________________________________________________________\n",
      "Layer (type)                 Output Shape              Param #   \n",
      "=================================================================\n",
      "lstm_1 (LSTM)                (None, 250)               527000    \n",
      "_________________________________________________________________\n",
      "dense_1 (Dense)              (None, 257)               64507     \n",
      "=================================================================\n",
      "Total params: 591,507\n",
      "Trainable params: 591,507\n",
      "Non-trainable params: 0\n",
      "_________________________________________________________________\n",
      "Train on 80171 samples, validate on 8908 samples\n",
      "Epoch 1/10\n",
      "80171/80171 [==============================] - 161s 2ms/step - loss: 0.9285 - accuracy: 0.3016 - metric_top_10: 4.0168 - val_loss: 0.8881 - val_accuracy: 0.3143 - val_metric_top_10: 3.8387\n",
      "Epoch 2/10\n",
      "80171/80171 [==============================] - 163s 2ms/step - loss: 0.8514 - accuracy: 0.3218 - metric_top_10: 3.9697 - val_loss: 0.8730 - val_accuracy: 0.3249 - val_metric_top_10: 4.2043\n",
      "Epoch 3/10\n",
      "80171/80171 [==============================] - 166s 2ms/step - loss: 0.8152 - accuracy: 0.3297 - metric_top_10: 4.0068 - val_loss: 0.8632 - val_accuracy: 0.3058 - val_metric_top_10: 3.8029\n",
      "Epoch 4/10\n",
      "55872/80171 [===================>..........] - ETA: 47s - loss: 0.7750 - accuracy: 0.3388 - metric_top_10: 3.9948- ETA: 48s - loss: 0.7746 - accuracy: 0.3386 - metr - ETA: 47s - loss: 0.7750 - accuracy: 0.3390 - metric_top_10: 3.9948"
     ]
    }
   ],
   "source": [
    "start=time.time()\n",
    "model = Sequential()\n",
    "\n",
    "model.add(LSTM(nb_hidden_units, activation='relu', input_shape=(nb_steps, nb_features)))\n",
    "model.add(Dense(out_shape))\n",
    "\n",
    "model.compile(optimizer='adam', loss='mse', metrics=['accuracy', metric_top_10])\n",
    "\n",
    "model.summary()\n",
    "\n",
    "# Load pre trained weights\n",
    "#model.load_weights('/tmp/weights.hdf5')\n",
    "\n",
    "history = model.fit(X_train, y_train, validation_data=(X_val, y_val), epochs=10, verbose=1)\n",
    "\n",
    "print(\"\\n\")\n",
    "print(\"Time : {:.2f} s\".format(time.time()-start))"
   ]
  },
  {
   "cell_type": "markdown",
   "metadata": {},
   "source": [
    "Sauvegarde des poids"
   ]
  },
  {
   "cell_type": "code",
   "execution_count": null,
   "metadata": {},
   "outputs": [],
   "source": [
    "model.save_weights(filepath=\"weights/inputs_{}_DT_{}_DP_{}_WS_{}_hidden_{}.hdf5\".format(step_group,delta_train,delta_prediction,window_slide,nb_hidden_units))"
   ]
  },
  {
   "cell_type": "markdown",
   "metadata": {},
   "source": [
    "Tensorboard"
   ]
  },
  {
   "cell_type": "code",
   "execution_count": 15,
   "metadata": {},
   "outputs": [
    {
     "data": {
      "image/png": "[encoded data removed]",
      "text/plain": [
       "<Figure size 432x288 with 1 Axes>"
      ]
     },
     "metadata": {
      "needs_background": "light"
     },
     "output_type": "display_data"
    }
   ],
   "source": [
    "\n",
    "import matplotlib.pyplot as plt\n",
    "# Plot training & validation loss\n",
    "plt.plot(history.history['loss'])\n",
    "plt.plot(history.history['val_loss'])\n",
    "plt.title('Model loss')\n",
    "plt.ylabel('Loss')\n",
    "plt.xlabel('Epoch')\n",
    "plt.legend(['Train', 'Validation'], loc='upper left')\n",
    "plt.show()"
   ]
  },
  {
   "cell_type": "code",
   "execution_count": 23,
   "metadata": {},
   "outputs": [
    {
     "data": {
      "image/png": "[encoded data removed]",
      "text/plain": [
       "<Figure size 432x288 with 1 Axes>"
      ]
     },
     "metadata": {
      "needs_background": "light"
     },
     "output_type": "display_data"
    }
   ],
   "source": [
    "# Plot training & validation accuracy values\n",
    "plt.plot(history.history['accuracy'])\n",
    "plt.plot(history.history['val_accuracy'])\n",
    "plt.title('Model accuracy')\n",
    "plt.ylabel('Accuracy')\n",
    "plt.xlabel('Epoch')\n",
    "plt.legend(['Train', 'Validation'], loc='upper left')\n",
    "plt.show()"
   ]
  },
  {
   "cell_type": "markdown",
   "metadata": {},
   "source": [
    "Validate on test set"
   ]
  },
  {
   "cell_type": "code",
   "execution_count": 24,
   "metadata": {},
   "outputs": [
    {
     "data": {
      "image/png": "[encoded data removed]",
      "text/plain": [
       "<Figure size 432x288 with 1 Axes>"
      ]
     },
     "metadata": {
      "needs_background": "light"
     },
     "output_type": "display_data"
    }
   ],
   "source": [
    "# Plot training & validation accuracy values\n",
    "plt.plot(history.history['metric_top_10'])\n",
    "plt.plot(history.history['val_metric_top_10'])\n",
    "plt.title('Top 10')\n",
    "plt.ylabel('Accuracy')\n",
    "plt.xlabel('Epoch')\n",
    "plt.legend(['Train', 'Validation'], loc='upper left')\n",
    "plt.show()\n",
    "\n"
   ]
  },
  {
   "cell_type": "code",
   "execution_count": 20,
   "metadata": {},
   "outputs": [
    {
     "name": "stdout",
     "output_type": "stream",
     "text": [
      "<keras.callbacks.callbacks.History object at 0x0000024EBA7AECC8>\n"
     ]
    }
   ],
   "source": [
    "print(history)"
   ]
  },
  {
   "cell_type": "code",
   "execution_count": 58,
   "metadata": {},
   "outputs": [
    {
     "ename": "AttributeError",
     "evalue": "module 'time' has no attribute 'date'",
     "output_type": "error",
     "traceback": [
      "\u001b[0;31m---------------------------------------------------------------------------\u001b[0m",
      "\u001b[0;31mAttributeError\u001b[0m                            Traceback (most recent call last)",
      "\u001b[0;32m<ipython-input-58-dd08d823f326>\u001b[0m in \u001b[0;36m<module>\u001b[0;34m\u001b[0m\n\u001b[0;32m----> 1\u001b[0;31m \u001b[0mtime\u001b[0m\u001b[0;34m.\u001b[0m\u001b[0mdate\u001b[0m\u001b[0;34m(\u001b[0m\u001b[0;34m)\u001b[0m\u001b[0;34m\u001b[0m\u001b[0;34m\u001b[0m\u001b[0m\n\u001b[0m",
      "\u001b[0;31mAttributeError\u001b[0m: module 'time' has no attribute 'date'"
     ]
    }
   ],
   "source": [
    "time.date()"
   ]
  },
  {
   "cell_type": "code",
   "execution_count": 69,
   "metadata": {},
   "outputs": [
    {
     "name": "stdout",
     "output_type": "stream",
     "text": [
      "2020-01-22 10:17:58.499941\n"
     ]
    }
   ],
   "source": [
    "print(datetime.now())"
   ]
  },
  {
   "cell_type": "code",
   "execution_count": null,
   "metadata": {},
   "outputs": [],
   "source": []
  }
 ],
 "metadata": {
  "kernelspec": {
   "display_name": "Python 3",
   "language": "python",
   "name": "python3"
  },
  "language_info": {
   "codemirror_mode": {
    "name": "ipython",
    "version": 3
   },
   "file_extension": ".py",
   "mimetype": "text/x-python",
   "name": "python",
   "nbconvert_exporter": "python",
   "pygments_lexer": "ipython3",
   "version": "3.7.4"
  }
 },
 "nbformat": 4,
 "nbformat_minor": 2
}
