{
 "cells": [
  {
   "cell_type": "markdown",
   "metadata": {},
   "source": [
    "## Reshape des inputs"
   ]
  },
  {
   "cell_type": "markdown",
   "metadata": {},
   "source": [
    "Imports"
   ]
  },
  {
   "cell_type": "code",
   "execution_count": 1,
   "metadata": {},
   "outputs": [],
   "source": [
    "import pandas as pd\n",
    "import numpy as np\n",
    "from sklearn.model_selection import train_test_split\n",
    "import time"
   ]
  },
  {
   "cell_type": "markdown",
   "metadata": {},
   "source": [
    "Chargement des données"
   ]
  },
  {
   "cell_type": "code",
   "execution_count": 2,
   "metadata": {},
   "outputs": [],
   "source": [
    "data = pd.read_pickle(r\"C:\\Users\\quent\\Documents\\IMTA3\\PO\\V2\\Inputs\\group90min_inputs.pkl\")"
   ]
  },
  {
   "cell_type": "markdown",
   "metadata": {},
   "source": [
    "Paramètres pour le reshape des inputs"
   ]
  },
  {
   "cell_type": "code",
   "execution_count": 27,
   "metadata": {},
   "outputs": [],
   "source": [
    "# Paramètre : Regroupement des données pour les input\n",
    "## A indicer sur les données en sortie de input generation\n",
    "step_group = \"90min\"\n",
    "\n",
    "## A ajuster\n",
    "\n",
    "# Paramètre : Intervalle de temps pour une ligne d'entrainement\n",
    "delta_train = \"6h\"\n",
    "\n",
    "# Paramètre : intervalle de temps sur lequel on souhaite faire une prédiction à une date donnée\n",
    "delta_prediction = \"90min\"\n",
    "\n",
    "# Paramètre : temps de window slide pour chaque nouvelle inpute\n",
    "window_slide = \"90min\""
   ]
  },
  {
   "cell_type": "markdown",
   "metadata": {},
   "source": [
    "Indices pour sélection les lignes"
   ]
  },
  {
   "cell_type": "code",
   "execution_count": 28,
   "metadata": {},
   "outputs": [],
   "source": [
    "index_delta_train = pd.Timedelta(delta_train).seconds // pd.Timedelta(step_group).seconds\n",
    "index_delta_prediction = pd.Timedelta(delta_prediction).seconds // pd.Timedelta(step_group).seconds\n",
    "index_window_slide = pd.Timedelta(window_slide).seconds // pd.Timedelta(step_group).seconds"
   ]
  },
  {
   "cell_type": "markdown",
   "metadata": {},
   "source": [
    "Initialisation des listes vide"
   ]
  },
  {
   "cell_type": "code",
   "execution_count": 29,
   "metadata": {},
   "outputs": [],
   "source": [
    "X = list()\n",
    "y = list()"
   ]
  },
  {
   "cell_type": "markdown",
   "metadata": {},
   "source": [
    "Ajout des variables d'entrainement dans ces listes"
   ]
  },
  {
   "cell_type": "code",
   "execution_count": 30,
   "metadata": {},
   "outputs": [
    {
     "name": "stdout",
     "output_type": "stream",
     "text": [
      "Temps d'exécution : 7.0 s\n"
     ]
    }
   ],
   "source": [
    "start = time.time()\n",
    "\n",
    "index = 0\n",
    "\n",
    "while (index + index_delta_train < data.shape[0]) and (index+index_delta_prediction < data.shape[0]):\n",
    "    index_end = index+index_delta_train\n",
    "    X.append(list(data.iloc[index:index_end].values))\n",
    "    y.append(list(data.iloc[index_end:index_end+index_delta_prediction, 1:-(7+12)].sum().values))\n",
    "    index += index_window_slide\n",
    "    \n",
    "print(\"Temps d'exécution : {:.2} s\".format(time.time()-start))"
   ]
  },
  {
   "cell_type": "markdown",
   "metadata": {},
   "source": [
    "On passe les variables au format numpy array"
   ]
  },
  {
   "cell_type": "code",
   "execution_count": 31,
   "metadata": {},
   "outputs": [],
   "source": [
    "X = np.array(X)\n",
    "y = np.array(y)"
   ]
  },
  {
   "cell_type": "markdown",
   "metadata": {},
   "source": [
    "Séparation des données entre le training set (90%) et le test set (10%)"
   ]
  },
  {
   "cell_type": "code",
   "execution_count": 32,
   "metadata": {},
   "outputs": [],
   "source": [
    "# Test set\n",
    "X_trainval, X_test, y_trainval, y_test = train_test_split(X, y, test_size=0.1, random_state=1)\n",
    "\n",
    "date_test = X_test[:,:,0].flatten()\n",
    "X_test = np.delete(X_test, 0, axis=2)\n",
    "\n",
    "\n",
    "# Train and dev set\n",
    "X_train, X_val, y_train, y_val = train_test_split(X_trainval, y_trainval, test_size=0.1, random_state=1)\n",
    "\n",
    "date_train = X_train[:,:,0].flatten()\n",
    "X_train = np.delete(X_train, 0, axis=2)\n",
    "\n",
    "date_val = X_val[:,:,0].flatten()\n",
    "X_val = np.delete(X_val, 0, axis=2)"
   ]
  },
  {
   "cell_type": "code",
   "execution_count": 33,
   "metadata": {},
   "outputs": [
    {
     "data": {
      "text/plain": [
       "(4451, 4, 276)"
      ]
     },
     "execution_count": 33,
     "metadata": {},
     "output_type": "execute_result"
    }
   ],
   "source": [
    "X_train.shape"
   ]
  },
  {
   "cell_type": "code",
   "execution_count": 34,
   "metadata": {
    "scrolled": false
   },
   "outputs": [
    {
     "name": "stdout",
     "output_type": "stream",
     "text": [
      "(4451, 4, 259)\n",
      "(4451, 17)\n"
     ]
    }
   ],
   "source": [
    "X1_train = X_train[:,:,:259]\n",
    "X2_train = X_train[:,-1,259:]\n",
    "\n",
    "X1_val = X_val[:,:,:259]\n",
    "X2_val = X_val[:,-1,259:]\n",
    "\n",
    "print(X1_train.shape)\n",
    "print(X2_train.shape)"
   ]
  },
  {
   "cell_type": "markdown",
   "metadata": {},
   "source": [
    "## Model"
   ]
  },
  {
   "cell_type": "markdown",
   "metadata": {},
   "source": [
    "Import des librairies"
   ]
  },
  {
   "cell_type": "code",
   "execution_count": 35,
   "metadata": {},
   "outputs": [],
   "source": [
    "from datetime import datetime"
   ]
  },
  {
   "cell_type": "markdown",
   "metadata": {},
   "source": [
    "Données d'architecture du LSTM"
   ]
  },
  {
   "cell_type": "code",
   "execution_count": 36,
   "metadata": {},
   "outputs": [
    {
     "data": {
      "text/plain": [
       "4451"
      ]
     },
     "execution_count": 36,
     "metadata": {},
     "output_type": "execute_result"
    }
   ],
   "source": [
    "nb_inputs = X_train.shape[0]\n",
    "nb_steps = X_train.shape[1]\n",
    "nb_features = X_train.shape[2]\n",
    "\n",
    "nb_inputs"
   ]
  },
  {
   "cell_type": "markdown",
   "metadata": {},
   "source": [
    "## Keras"
   ]
  },
  {
   "cell_type": "code",
   "execution_count": 40,
   "metadata": {},
   "outputs": [],
   "source": [
    "from keras.models import Sequential\n",
    "from keras.layers import LSTM, Dense, Input, Concatenate, Dropout\n",
    "from keras.layers import Dense\n",
    "from keras.metrics import top_k_categorical_accuracy\n",
    "from keras.callbacks import ModelCheckpoint\n",
    "from keras.models import load_model\n",
    "from keras.models import Model\n",
    "import keras.backend as K\n",
    "import tensorflow as tf\n",
    "import keras\n",
    "\n",
    "from livelossplot import PlotLossesKeras"
   ]
  },
  {
   "cell_type": "code",
   "execution_count": 47,
   "metadata": {},
   "outputs": [],
   "source": [
    "nb_steps = X_train.shape[1]\n",
    "nb_features = X_train.shape[2]\n",
    "nb_hidden_units = 250\n",
    "batch_size = 256\n",
    "\n",
    "out_shape = y_train.shape[1]"
   ]
  },
  {
   "cell_type": "code",
   "execution_count": 48,
   "metadata": {},
   "outputs": [],
   "source": [
    "#Nos deux set d'entrés \n",
    "inputA = Input(shape=(X1_train.shape[1],X1_train.shape[2]))\n",
    "inputB = Input(shape=(X2_train.shape[1],))\n",
    "\n",
    "#Le modèle qui va gérer les premieres inputs\n",
    "x = Dropout(0.2)(inputA)\n",
    "x = LSTM(nb_hidden_units, activation='relu')(x)\n",
    "x = Dense(out_shape, activation='relu')(x)\n",
    "x = Model(inputs=inputA, outputs=x)\n",
    "\n",
    "#Le modèle qui va gérer les deuxièmes inputs \n",
    "y = Dense(2, activation='relu')(inputB)\n",
    "y = Model(inputs=inputB,outputs=y)\n",
    "\n",
    "#On combine les deux résultats\n",
    "combined = Concatenate()([x.output,y.output])\n",
    "\n",
    "z = Dense(out_shape, activation='relu')(combined)\n",
    "\n",
    "model = Model(inputs=[x.input, y.input], outputs=z)"
   ]
  },
  {
   "cell_type": "code",
   "execution_count": 49,
   "metadata": {
    "scrolled": true
   },
   "outputs": [
    {
     "name": "stdout",
     "output_type": "stream",
     "text": [
      "Model: \"model_18\"\n",
      "__________________________________________________________________________________________________\n",
      "Layer (type)                    Output Shape         Param #     Connected to                     \n",
      "==================================================================================================\n",
      "input_11 (InputLayer)           (None, 4, 259)       0                                            \n",
      "__________________________________________________________________________________________________\n",
      "dropout_3 (Dropout)             (None, 4, 259)       0           input_11[0][0]                   \n",
      "__________________________________________________________________________________________________\n",
      "lstm_6 (LSTM)                   (None, 250)          510000      dropout_3[0][0]                  \n",
      "__________________________________________________________________________________________________\n",
      "input_12 (InputLayer)           (None, 17)           0                                            \n",
      "__________________________________________________________________________________________________\n",
      "dense_17 (Dense)                (None, 257)          64507       lstm_6[0][0]                     \n",
      "__________________________________________________________________________________________________\n",
      "dense_18 (Dense)                (None, 2)            36          input_12[0][0]                   \n",
      "__________________________________________________________________________________________________\n",
      "concatenate_6 (Concatenate)     (None, 259)          0           dense_17[0][0]                   \n",
      "                                                                 dense_18[0][0]                   \n",
      "__________________________________________________________________________________________________\n",
      "dense_19 (Dense)                (None, 257)          66820       concatenate_6[0][0]              \n",
      "==================================================================================================\n",
      "Total params: 641,363\n",
      "Trainable params: 641,363\n",
      "Non-trainable params: 0\n",
      "__________________________________________________________________________________________________\n",
      "Train on 4451 samples, validate on 495 samples\n",
      "Epoch 1/100\n",
      "4451/4451 [==============================] - 4s 886us/step - loss: 81.4554 - accuracy: 0.3449 - val_loss: 65.7333 - val_accuracy: 0.3737\n",
      "Epoch 2/100\n",
      "4451/4451 [==============================] - 3s 721us/step - loss: 63.2789 - accuracy: 0.3956 - val_loss: 63.6280 - val_accuracy: 0.3919\n",
      "Epoch 3/100\n",
      "4451/4451 [==============================] - 3s 712us/step - loss: 60.3659 - accuracy: 0.4067 - val_loss: 58.1739 - val_accuracy: 0.3798\n",
      "Epoch 4/100\n",
      "4451/4451 [==============================] - 3s 710us/step - loss: 56.9669 - accuracy: 0.4213 - val_loss: 56.9069 - val_accuracy: 0.3798\n",
      "Epoch 5/100\n",
      "4451/4451 [==============================] - 3s 736us/step - loss: 54.6043 - accuracy: 0.4226 - val_loss: 56.2980 - val_accuracy: 0.3717\n",
      "Epoch 6/100\n",
      "4451/4451 [==============================] - 3s 784us/step - loss: 53.5072 - accuracy: 0.4271 - val_loss: 56.1044 - val_accuracy: 0.3960\n",
      "Epoch 7/100\n",
      "4451/4451 [==============================] - 3s 757us/step - loss: 52.6920 - accuracy: 0.4289 - val_loss: 54.8805 - val_accuracy: 0.3818\n",
      "Epoch 8/100\n",
      "4451/4451 [==============================] - 3s 750us/step - loss: 50.5743 - accuracy: 0.4264 - val_loss: 53.0993 - val_accuracy: 0.4061\n",
      "Epoch 9/100\n",
      "4451/4451 [==============================] - 3s 712us/step - loss: 50.1282 - accuracy: 0.4370 - val_loss: 52.2185 - val_accuracy: 0.3980\n",
      "Epoch 10/100\n",
      "4451/4451 [==============================] - 3s 701us/step - loss: 49.5012 - accuracy: 0.4453 - val_loss: 51.0910 - val_accuracy: 0.4081\n",
      "Epoch 11/100\n",
      "4451/4451 [==============================] - 3s 750us/step - loss: 48.1914 - accuracy: 0.4502 - val_loss: 50.9968 - val_accuracy: 0.4162\n",
      "Epoch 12/100\n",
      "4451/4451 [==============================] - 3s 746us/step - loss: 47.5601 - accuracy: 0.4583 - val_loss: 51.1622 - val_accuracy: 0.4081\n",
      "Epoch 13/100\n",
      "4451/4451 [==============================] - 3s 743us/step - loss: 46.4540 - accuracy: 0.4608 - val_loss: 50.5075 - val_accuracy: 0.4202\n",
      "Epoch 14/100\n",
      "4451/4451 [==============================] - 3s 742us/step - loss: 46.1380 - accuracy: 0.5075 - val_loss: 52.5250 - val_accuracy: 0.4141\n",
      "Epoch 15/100\n",
      "4451/4451 [==============================] - 3s 730us/step - loss: 46.2949 - accuracy: 0.4709 - val_loss: 51.4247 - val_accuracy: 0.4162\n",
      "Epoch 16/100\n",
      "4451/4451 [==============================] - 3s 758us/step - loss: 45.4578 - accuracy: 0.4774 - val_loss: 50.3646 - val_accuracy: 0.4121\n",
      "Epoch 17/100\n",
      "4451/4451 [==============================] - 3s 756us/step - loss: 44.2211 - accuracy: 0.4749 - val_loss: 49.8694 - val_accuracy: 0.4101\n",
      "Epoch 18/100\n",
      "4451/4451 [==============================] - 3s 748us/step - loss: 43.8870 - accuracy: 0.4745 - val_loss: 49.6002 - val_accuracy: 0.4242\n",
      "Epoch 19/100\n",
      "4451/4451 [==============================] - 3s 754us/step - loss: 42.9269 - accuracy: 0.4873 - val_loss: 50.3033 - val_accuracy: 0.4202\n",
      "Epoch 20/100\n",
      "4451/4451 [==============================] - 3s 739us/step - loss: 41.8378 - accuracy: 0.4927 - val_loss: 50.8831 - val_accuracy: 0.4222\n",
      "Epoch 21/100\n",
      "4451/4451 [==============================] - 3s 739us/step - loss: 41.1826 - accuracy: 0.4988 - val_loss: 49.5119 - val_accuracy: 0.4040\n",
      "Epoch 22/100\n",
      "4451/4451 [==============================] - 3s 758us/step - loss: 40.5290 - accuracy: 0.4940 - val_loss: 49.6496 - val_accuracy: 0.3980\n",
      "Epoch 23/100\n",
      "4451/4451 [==============================] - 3s 739us/step - loss: 39.9826 - accuracy: 0.5161 - val_loss: 50.4213 - val_accuracy: 0.5475\n",
      "Epoch 24/100\n",
      "4451/4451 [==============================] - 3s 748us/step - loss: 40.1175 - accuracy: 0.5331 - val_loss: 50.0137 - val_accuracy: 0.4162\n",
      "Epoch 25/100\n",
      "4451/4451 [==============================] - 3s 755us/step - loss: 39.9144 - accuracy: 0.4929 - val_loss: 50.0294 - val_accuracy: 0.4202\n",
      "Epoch 26/100\n",
      "4451/4451 [==============================] - 3s 742us/step - loss: 38.7000 - accuracy: 0.5017 - val_loss: 49.0685 - val_accuracy: 0.4182\n",
      "Epoch 27/100\n",
      "4451/4451 [==============================] - 3s 762us/step - loss: 38.4196 - accuracy: 0.5089 - val_loss: 49.1249 - val_accuracy: 0.4263\n",
      "Epoch 28/100\n",
      "4451/4451 [==============================] - 3s 757us/step - loss: 38.0587 - accuracy: 0.5080 - val_loss: 49.6922 - val_accuracy: 0.4404\n",
      "Epoch 29/100\n",
      "4451/4451 [==============================] - 3s 739us/step - loss: 37.9063 - accuracy: 0.5120 - val_loss: 50.4510 - val_accuracy: 0.4101\n",
      "Epoch 30/100\n",
      "4451/4451 [==============================] - 3s 740us/step - loss: 37.3010 - accuracy: 0.5111 - val_loss: 48.9773 - val_accuracy: 0.4364\n",
      "Epoch 31/100\n",
      "4451/4451 [==============================] - 4s 821us/step - loss: 36.4616 - accuracy: 0.5194 - val_loss: 49.8522 - val_accuracy: 0.4121\n",
      "Epoch 32/100\n",
      "4451/4451 [==============================] - 4s 832us/step - loss: 35.8113 - accuracy: 0.5192 - val_loss: 49.2715 - val_accuracy: 0.4343\n",
      "Epoch 33/100\n",
      "4451/4451 [==============================] - 3s 775us/step - loss: 36.1037 - accuracy: 0.5125 - val_loss: 49.6757 - val_accuracy: 0.4303\n",
      "Epoch 34/100\n",
      "4451/4451 [==============================] - 3s 747us/step - loss: 36.1510 - accuracy: 0.5280 - val_loss: 49.8679 - val_accuracy: 0.4162\n",
      "Epoch 35/100\n",
      "4451/4451 [==============================] - 3s 764us/step - loss: 35.3993 - accuracy: 0.5208 - val_loss: 49.5994 - val_accuracy: 0.4283\n",
      "Epoch 36/100\n",
      "4451/4451 [==============================] - 3s 754us/step - loss: 34.9793 - accuracy: 0.5322 - val_loss: 50.3525 - val_accuracy: 0.4303\n",
      "Epoch 37/100\n",
      "4451/4451 [==============================] - 3s 749us/step - loss: 34.9929 - accuracy: 0.5275 - val_loss: 49.1829 - val_accuracy: 0.4384\n",
      "Epoch 38/100\n",
      "4451/4451 [==============================] - 3s 741us/step - loss: 34.3289 - accuracy: 0.5212 - val_loss: 49.5649 - val_accuracy: 0.4020\n",
      "Epoch 39/100\n",
      "4451/4451 [==============================] - 3s 754us/step - loss: 33.6257 - accuracy: 0.5356 - val_loss: 49.7043 - val_accuracy: 0.4263\n",
      "Epoch 40/100\n",
      "4451/4451 [==============================] - 3s 748us/step - loss: 33.6143 - accuracy: 0.5381 - val_loss: 48.9641 - val_accuracy: 0.4283\n"
     ]
    },
    {
     "name": "stdout",
     "output_type": "stream",
     "text": [
      "Epoch 41/100\n",
      "4451/4451 [==============================] - 3s 735us/step - loss: 34.0526 - accuracy: 0.5325 - val_loss: 50.2281 - val_accuracy: 0.3939\n",
      "Epoch 42/100\n",
      "4451/4451 [==============================] - 3s 730us/step - loss: 33.1199 - accuracy: 0.5340 - val_loss: 48.9572 - val_accuracy: 0.4263\n",
      "Epoch 43/100\n",
      "4451/4451 [==============================] - 3s 739us/step - loss: 32.7277 - accuracy: 0.5397 - val_loss: 49.7726 - val_accuracy: 0.4182\n",
      "Epoch 44/100\n",
      "4451/4451 [==============================] - 3s 732us/step - loss: 32.4199 - accuracy: 0.5401 - val_loss: 49.3166 - val_accuracy: 0.4242\n",
      "Epoch 45/100\n",
      "4451/4451 [==============================] - 3s 755us/step - loss: 32.0384 - accuracy: 0.5424 - val_loss: 49.7487 - val_accuracy: 0.4404\n",
      "Epoch 46/100\n",
      "4451/4451 [==============================] - 3s 738us/step - loss: 31.6289 - accuracy: 0.5471 - val_loss: 48.6185 - val_accuracy: 0.4222\n",
      "Epoch 47/100\n",
      "4451/4451 [==============================] - 3s 735us/step - loss: 31.8931 - accuracy: 0.5480 - val_loss: 48.4287 - val_accuracy: 0.4364\n",
      "Epoch 48/100\n",
      "4451/4451 [==============================] - 3s 743us/step - loss: 31.6048 - accuracy: 0.5464 - val_loss: 48.5565 - val_accuracy: 0.4242\n",
      "Epoch 49/100\n",
      "4451/4451 [==============================] - 3s 754us/step - loss: 30.8643 - accuracy: 0.5498 - val_loss: 49.2097 - val_accuracy: 0.4202\n",
      "Epoch 50/100\n",
      "4451/4451 [==============================] - 3s 730us/step - loss: 31.1303 - accuracy: 0.5464 - val_loss: 48.5390 - val_accuracy: 0.4303\n",
      "Epoch 51/100\n",
      "4451/4451 [==============================] - 3s 739us/step - loss: 31.1418 - accuracy: 0.5538 - val_loss: 49.0622 - val_accuracy: 0.4222\n",
      "Epoch 52/100\n",
      "4451/4451 [==============================] - 3s 759us/step - loss: 30.4628 - accuracy: 0.5572 - val_loss: 48.6457 - val_accuracy: 0.4121\n",
      "Epoch 53/100\n",
      "4451/4451 [==============================] - 3s 747us/step - loss: 30.4088 - accuracy: 0.5511 - val_loss: 48.2309 - val_accuracy: 0.4263\n",
      "Epoch 54/100\n",
      "4451/4451 [==============================] - 3s 723us/step - loss: 31.6852 - accuracy: 0.5500 - val_loss: 49.2493 - val_accuracy: 0.4263\n",
      "Epoch 55/100\n",
      "4451/4451 [==============================] - ETA: 0s - loss: 30.0777 - accuracy: 0.555 - 3s 726us/step - loss: 30.0710 - accuracy: 0.5554 - val_loss: 50.8842 - val_accuracy: 0.4182\n",
      "Epoch 56/100\n",
      "4451/4451 [==============================] - 3s 725us/step - loss: 30.0576 - accuracy: 0.5549 - val_loss: 49.4229 - val_accuracy: 0.4202\n",
      "Epoch 57/100\n",
      "4451/4451 [==============================] - 3s 727us/step - loss: 29.4948 - accuracy: 0.5507 - val_loss: 50.2596 - val_accuracy: 0.4020\n",
      "Epoch 58/100\n",
      "4451/4451 [==============================] - 3s 717us/step - loss: 29.3020 - accuracy: 0.5583 - val_loss: 49.5278 - val_accuracy: 0.4343\n",
      "Epoch 59/100\n",
      "4451/4451 [==============================] - 3s 744us/step - loss: 29.1130 - accuracy: 0.5628 - val_loss: 48.6470 - val_accuracy: 0.4384\n",
      "Epoch 60/100\n",
      "4451/4451 [==============================] - 3s 729us/step - loss: 29.1198 - accuracy: 0.5594 - val_loss: 48.5720 - val_accuracy: 0.4202\n",
      "Epoch 61/100\n",
      "4451/4451 [==============================] - 3s 719us/step - loss: 28.8225 - accuracy: 0.5675 - val_loss: 49.0962 - val_accuracy: 0.4323\n",
      "Epoch 62/100\n",
      "4451/4451 [==============================] - 3s 721us/step - loss: 28.2387 - accuracy: 0.5700 - val_loss: 48.1946 - val_accuracy: 0.4364\n",
      "Epoch 63/100\n",
      "4451/4451 [==============================] - 3s 735us/step - loss: 28.2175 - accuracy: 0.5632 - val_loss: 48.3127 - val_accuracy: 0.4283\n",
      "Epoch 64/100\n",
      "4451/4451 [==============================] - 3s 723us/step - loss: 28.4607 - accuracy: 0.5666 - val_loss: 48.9416 - val_accuracy: 0.4323\n",
      "Epoch 65/100\n",
      "4451/4451 [==============================] - 3s 728us/step - loss: 28.0706 - accuracy: 0.5668 - val_loss: 48.8754 - val_accuracy: 0.4384\n",
      "Epoch 66/100\n",
      "4451/4451 [==============================] - 3s 723us/step - loss: 28.0067 - accuracy: 0.5752 - val_loss: 48.9073 - val_accuracy: 0.4303\n",
      "Epoch 67/100\n",
      "4451/4451 [==============================] - 3s 733us/step - loss: 27.6573 - accuracy: 0.5686 - val_loss: 50.7934 - val_accuracy: 0.4283\n",
      "Epoch 68/100\n",
      "4451/4451 [==============================] - 4s 849us/step - loss: 27.8917 - accuracy: 0.5828 - val_loss: 49.1698 - val_accuracy: 0.4061\n",
      "Epoch 69/100\n",
      "4451/4451 [==============================] - 3s 768us/step - loss: 27.4152 - accuracy: 0.5783 - val_loss: 50.5240 - val_accuracy: 0.4424\n",
      "Epoch 70/100\n",
      "4451/4451 [==============================] - 4s 825us/step - loss: 27.4637 - accuracy: 0.5774 - val_loss: 48.9806 - val_accuracy: 0.4485\n",
      "Epoch 71/100\n",
      "4451/4451 [==============================] - 3s 773us/step - loss: 27.1308 - accuracy: 0.5810 - val_loss: 48.7464 - val_accuracy: 0.4323\n",
      "Epoch 72/100\n",
      "4451/4451 [==============================] - 3s 745us/step - loss: 26.8951 - accuracy: 0.5886 - val_loss: 50.1481 - val_accuracy: 0.4263\n",
      "Epoch 73/100\n",
      "4451/4451 [==============================] - 3s 737us/step - loss: 26.6711 - accuracy: 0.5832 - val_loss: 50.0985 - val_accuracy: 0.4364\n",
      "Epoch 74/100\n",
      "4451/4451 [==============================] - 3s 749us/step - loss: 26.5986 - accuracy: 0.5805 - val_loss: 49.4399 - val_accuracy: 0.4283\n",
      "Epoch 75/100\n",
      "4451/4451 [==============================] - 3s 758us/step - loss: 26.7178 - accuracy: 0.5808 - val_loss: 49.2029 - val_accuracy: 0.4303\n",
      "Epoch 76/100\n",
      "4451/4451 [==============================] - 3s 750us/step - loss: 26.2220 - accuracy: 0.5826 - val_loss: 48.2283 - val_accuracy: 0.4323\n",
      "Epoch 77/100\n",
      "4451/4451 [==============================] - 3s 745us/step - loss: 25.9974 - accuracy: 0.5880 - val_loss: 48.0520 - val_accuracy: 0.4323\n",
      "Epoch 78/100\n",
      "4451/4451 [==============================] - 3s 731us/step - loss: 26.3831 - accuracy: 0.5864 - val_loss: 50.1497 - val_accuracy: 0.4384\n",
      "Epoch 79/100\n",
      "4451/4451 [==============================] - 3s 740us/step - loss: 25.9697 - accuracy: 0.5895 - val_loss: 48.4802 - val_accuracy: 0.4485\n",
      "Epoch 80/100\n",
      "4451/4451 [==============================] - 3s 744us/step - loss: 25.0448 - accuracy: 0.5866 - val_loss: 48.4469 - val_accuracy: 0.4343\n",
      "Epoch 81/100\n",
      "4451/4451 [==============================] - 3s 737us/step - loss: 25.3798 - accuracy: 0.5947 - val_loss: 49.5994 - val_accuracy: 0.4283\n",
      "Epoch 82/100\n",
      "4451/4451 [==============================] - 3s 771us/step - loss: 25.3969 - accuracy: 0.5862 - val_loss: 48.8918 - val_accuracy: 0.4323\n",
      "Epoch 83/100\n",
      "4451/4451 [==============================] - 3s 732us/step - loss: 25.3529 - accuracy: 0.5884 - val_loss: 49.7936 - val_accuracy: 0.4141\n",
      "Epoch 84/100\n",
      "4451/4451 [==============================] - 3s 738us/step - loss: 24.9584 - accuracy: 0.5875 - val_loss: 49.6181 - val_accuracy: 0.4162\n",
      "Epoch 85/100\n",
      "4451/4451 [==============================] - 3s 749us/step - loss: 25.1434 - accuracy: 0.5877 - val_loss: 48.6638 - val_accuracy: 0.4242\n",
      "Epoch 86/100\n",
      "4451/4451 [==============================] - 3s 740us/step - loss: 25.4344 - accuracy: 0.5938 - val_loss: 49.0609 - val_accuracy: 0.3960\n",
      "Epoch 87/100\n",
      "4451/4451 [==============================] - 3s 738us/step - loss: 25.4180 - accuracy: 0.5801 - val_loss: 49.3778 - val_accuracy: 0.4404\n",
      "Epoch 88/100\n",
      "4451/4451 [==============================] - 3s 758us/step - loss: 24.5755 - accuracy: 0.5981 - val_loss: 48.5422 - val_accuracy: 0.4182\n",
      "Epoch 89/100\n",
      "4451/4451 [==============================] - 3s 786us/step - loss: 24.9994 - accuracy: 0.6039 - val_loss: 49.7175 - val_accuracy: 0.4242\n",
      "Epoch 90/100\n",
      "4451/4451 [==============================] - 3s 740us/step - loss: 24.8887 - accuracy: 0.6064 - val_loss: 49.5207 - val_accuracy: 0.4242\n",
      "Epoch 91/100\n",
      "4451/4451 [==============================] - 3s 761us/step - loss: 24.0596 - accuracy: 0.6120 - val_loss: 49.1999 - val_accuracy: 0.4384\n",
      "Epoch 92/100\n",
      "4451/4451 [==============================] - 3s 756us/step - loss: 24.1109 - accuracy: 0.6064 - val_loss: 48.6890 - val_accuracy: 0.4222\n",
      "Epoch 93/100\n",
      "4451/4451 [==============================] - 3s 775us/step - loss: 23.8078 - accuracy: 0.6095 - val_loss: 49.5236 - val_accuracy: 0.4000\n",
      "Epoch 94/100\n",
      "4451/4451 [==============================] - 3s 737us/step - loss: 23.8698 - accuracy: 0.6068 - val_loss: 49.3976 - val_accuracy: 0.4323\n",
      "Epoch 95/100\n"
     ]
    },
    {
     "name": "stdout",
     "output_type": "stream",
     "text": [
      "4451/4451 [==============================] - 3s 739us/step - loss: 23.7000 - accuracy: 0.6073 - val_loss: 50.3367 - val_accuracy: 0.4323\n",
      "Epoch 96/100\n",
      "4451/4451 [==============================] - 3s 738us/step - loss: 23.5900 - accuracy: 0.6185 - val_loss: 49.0788 - val_accuracy: 0.4404\n",
      "Epoch 97/100\n",
      "4451/4451 [==============================] - 3s 727us/step - loss: 23.6230 - accuracy: 0.6201 - val_loss: 49.6885 - val_accuracy: 0.4121\n",
      "Epoch 98/100\n",
      "4451/4451 [==============================] - 3s 730us/step - loss: 23.4803 - accuracy: 0.6100 - val_loss: 49.2198 - val_accuracy: 0.4303\n",
      "Epoch 99/100\n",
      "4451/4451 [==============================] - 3s 752us/step - loss: 23.1350 - accuracy: 0.6046 - val_loss: 49.8605 - val_accuracy: 0.4141\n",
      "Epoch 100/100\n",
      "4451/4451 [==============================] - 4s 838us/step - loss: 23.4030 - accuracy: 0.6073 - val_loss: 48.9378 - val_accuracy: 0.4202\n",
      "\n",
      "\n",
      "Time : 1138.00 s\n"
     ]
    }
   ],
   "source": [
    "model.compile(optimizer='adam', loss='mse', metrics=['accuracy'])\n",
    "\n",
    "model.summary()\n",
    "\n",
    "# Load pre trained weights\n",
    "#model.load_weights('/tmp/weights.hdf5')\n",
    "\n",
    "history = model.fit([X1_train,X2_train], y_train, validation_data=([X1_val,X2_val], y_val), epochs=100, verbose=1)\n",
    "\n",
    "print(\"\\n\")\n",
    "print(\"Time : {:.2f} s\".format(time.time()-start))"
   ]
  },
  {
   "cell_type": "markdown",
   "metadata": {},
   "source": [
    "Sauvegarde des poids"
   ]
  },
  {
   "cell_type": "code",
   "execution_count": null,
   "metadata": {},
   "outputs": [],
   "source": [
    "model.save_weights(filepath=\"weights/inputs_{}_DT_{}_DP_{}_WS_{}_hidden_{}.hdf5\".format(step_group,delta_train,delta_prediction,window_slide,nb_hidden_units))"
   ]
  },
  {
   "cell_type": "markdown",
   "metadata": {},
   "source": [
    "Tensorboard"
   ]
  },
  {
   "cell_type": "code",
   "execution_count": 45,
   "metadata": {},
   "outputs": [
    {
     "data": {
      "image/png": "[encoded data removed]",
      "text/plain": [
       "<Figure size 432x288 with 1 Axes>"
      ]
     },
     "metadata": {
      "needs_background": "light"
     },
     "output_type": "display_data"
    }
   ],
   "source": [
    "\n",
    "import matplotlib.pyplot as plt\n",
    "# Plot training & validation loss\n",
    "plt.plot(history.history['loss'])\n",
    "plt.plot(history.history['val_loss'])\n",
    "plt.title('Model loss')\n",
    "plt.ylabel('Loss')\n",
    "plt.xlabel('Epoch')\n",
    "plt.legend(['Train', 'Validation'], loc='upper left')\n",
    "plt.show()"
   ]
  },
  {
   "cell_type": "code",
   "execution_count": 46,
   "metadata": {},
   "outputs": [
    {
     "data": {
      "image/png": "[encoded data removed]",
      "text/plain": [
       "<Figure size 432x288 with 1 Axes>"
      ]
     },
     "metadata": {
      "needs_background": "light"
     },
     "output_type": "display_data"
    }
   ],
   "source": [
    "# Plot training & validation accuracy values\n",
    "plt.plot(history.history['accuracy'])\n",
    "plt.plot(history.history['val_accuracy'])\n",
    "plt.title('Model accuracy')\n",
    "plt.ylabel('Accuracy')\n",
    "plt.xlabel('Epoch')\n",
    "plt.legend(['Train', 'Validation'], loc='upper left')\n",
    "plt.show()"
   ]
  },
  {
   "cell_type": "markdown",
   "metadata": {},
   "source": [
    "Validate on test set"
   ]
  }
 ],
 "metadata": {
  "kernelspec": {
   "display_name": "Python 3",
   "language": "python",
   "name": "python3"
  },
  "language_info": {
   "codemirror_mode": {
    "name": "ipython",
    "version": 3
   },
   "file_extension": ".py",
   "mimetype": "text/x-python",
   "name": "python",
   "nbconvert_exporter": "python",
   "pygments_lexer": "ipython3",
   "version": "3.7.4"
  }
 },
 "nbformat": 4,
 "nbformat_minor": 2
}
