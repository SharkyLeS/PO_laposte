{
 "cells": [
  {
   "cell_type": "code",
   "execution_count": 8,
   "metadata": {},
   "outputs": [],
   "source": [
    "import pandas as pd\n",
    "import numpy as np\n",
    "from sklearn.model_selection import train_test_split\n",
    "from datetime import timedelta\n",
    "import time\n",
    "import datetime\n",
    "import os"
   ]
  },
  {
   "cell_type": "markdown",
   "metadata": {},
   "source": [
    "# Préparation des inputs"
   ]
  },
  {
   "cell_type": "code",
   "execution_count": 20,
   "metadata": {},
   "outputs": [],
   "source": [
    "# Paramètre : Regroupement des données pour les input\n",
    "step_group = \"2min\"\n",
    "\n",
    "# Paramètre : Intervalle de temps pour une ligne d'entrainement\n",
    "delta_train = \"2h\"\n",
    "\n",
    "# Paramètre : intervalle de temps sur lequel on souhaite faire une prédiction à une date donnée\n",
    "delta_prediction = \"30min\"\n",
    "\n",
    "# Paramètre : temps de window slide pour chaque nouvelle inpute\n",
    "window_slide = \"2h\""
   ]
  },
  {
   "cell_type": "markdown",
   "metadata": {},
   "source": [
    "Chargement des données"
   ]
  },
  {
   "cell_type": "code",
   "execution_count": 10,
   "metadata": {},
   "outputs": [],
   "source": [
    "data = pd.read_csv('/Users/gauthier/Desktop/data_processed')"
   ]
  },
  {
   "cell_type": "markdown",
   "metadata": {},
   "source": [
    "Passage des dates au format Timestamp"
   ]
  },
  {
   "cell_type": "code",
   "execution_count": 11,
   "metadata": {},
   "outputs": [],
   "source": [
    "data['date'] = data['date'].apply(lambda x : pd.Timestamp(x))"
   ]
  },
  {
   "cell_type": "markdown",
   "metadata": {},
   "source": [
    "One hot encoding pour la variable CBN"
   ]
  },
  {
   "cell_type": "code",
   "execution_count": 12,
   "metadata": {},
   "outputs": [],
   "source": [
    "data['CBN'] = pd.Categorical(data['CBN'])\n",
    "\n",
    "# Créer les one hot encodings pour chaque variabble\n",
    "dfDummies_cbn = pd.get_dummies(data['CBN'], prefix = 'CBN')\n",
    "\n",
    "# Concatener les one hot encodings avec les données\n",
    "data = pd.concat([data, dfDummies_cbn], axis=1)\n",
    "\n",
    "# Suppression de la variable CBBN\n",
    "data.drop(columns=['CBN'], inplace=True)\n",
    "\n",
    "# On ordonne les data par \"date\"\n",
    "data.sort_values(by='date', inplace=True)\n",
    "\n",
    "# Réindexage des lignes\n",
    "data.reset_index(inplace=True)\n",
    "data.drop(columns=['index'], inplace=True)"
   ]
  },
  {
   "cell_type": "code",
   "execution_count": 13,
   "metadata": {},
   "outputs": [
    {
     "data": {
      "text/html": [
       "<div>\n",
       "<style scoped>\n",
       "    .dataframe tbody tr th:only-of-type {\n",
       "        vertical-align: middle;\n",
       "    }\n",
       "\n",
       "    .dataframe tbody tr th {\n",
       "        vertical-align: top;\n",
       "    }\n",
       "\n",
       "    .dataframe thead th {\n",
       "        text-align: right;\n",
       "    }\n",
       "</style>\n",
       "<table border=\"1\" class=\"dataframe\">\n",
       "  <thead>\n",
       "    <tr style=\"text-align: right;\">\n",
       "      <th></th>\n",
       "      <th>date</th>\n",
       "      <th>CBN_0 02</th>\n",
       "      <th>CBN_0 03</th>\n",
       "      <th>CBN_0 04</th>\n",
       "      <th>CBN_0 05</th>\n",
       "      <th>CBN_0 06</th>\n",
       "      <th>CBN_0 07</th>\n",
       "      <th>CBN_0 08</th>\n",
       "      <th>CBN_0 09</th>\n",
       "      <th>CBN_0 10</th>\n",
       "      <th>...</th>\n",
       "      <th>CBN_X 06</th>\n",
       "      <th>CBN_X 07</th>\n",
       "      <th>CBN_X 08</th>\n",
       "      <th>CBN_X 09</th>\n",
       "      <th>CBN_X 10</th>\n",
       "      <th>CBN_X 11</th>\n",
       "      <th>CBN_X 12</th>\n",
       "      <th>CBN_Y</th>\n",
       "      <th>CBN_Z</th>\n",
       "      <th>CBN_j 04</th>\n",
       "    </tr>\n",
       "  </thead>\n",
       "  <tbody>\n",
       "    <tr>\n",
       "      <th>0</th>\n",
       "      <td>2018-07-21 04:52:46</td>\n",
       "      <td>0</td>\n",
       "      <td>0</td>\n",
       "      <td>0</td>\n",
       "      <td>1</td>\n",
       "      <td>0</td>\n",
       "      <td>0</td>\n",
       "      <td>0</td>\n",
       "      <td>0</td>\n",
       "      <td>0</td>\n",
       "      <td>...</td>\n",
       "      <td>0</td>\n",
       "      <td>0</td>\n",
       "      <td>0</td>\n",
       "      <td>0</td>\n",
       "      <td>0</td>\n",
       "      <td>0</td>\n",
       "      <td>0</td>\n",
       "      <td>0</td>\n",
       "      <td>0</td>\n",
       "      <td>0</td>\n",
       "    </tr>\n",
       "    <tr>\n",
       "      <th>1</th>\n",
       "      <td>2018-07-21 04:52:49</td>\n",
       "      <td>0</td>\n",
       "      <td>0</td>\n",
       "      <td>0</td>\n",
       "      <td>1</td>\n",
       "      <td>0</td>\n",
       "      <td>0</td>\n",
       "      <td>0</td>\n",
       "      <td>0</td>\n",
       "      <td>0</td>\n",
       "      <td>...</td>\n",
       "      <td>0</td>\n",
       "      <td>0</td>\n",
       "      <td>0</td>\n",
       "      <td>0</td>\n",
       "      <td>0</td>\n",
       "      <td>0</td>\n",
       "      <td>0</td>\n",
       "      <td>0</td>\n",
       "      <td>0</td>\n",
       "      <td>0</td>\n",
       "    </tr>\n",
       "    <tr>\n",
       "      <th>2</th>\n",
       "      <td>2018-07-21 04:52:57</td>\n",
       "      <td>0</td>\n",
       "      <td>0</td>\n",
       "      <td>0</td>\n",
       "      <td>1</td>\n",
       "      <td>0</td>\n",
       "      <td>0</td>\n",
       "      <td>0</td>\n",
       "      <td>0</td>\n",
       "      <td>0</td>\n",
       "      <td>...</td>\n",
       "      <td>0</td>\n",
       "      <td>0</td>\n",
       "      <td>0</td>\n",
       "      <td>0</td>\n",
       "      <td>0</td>\n",
       "      <td>0</td>\n",
       "      <td>0</td>\n",
       "      <td>0</td>\n",
       "      <td>0</td>\n",
       "      <td>0</td>\n",
       "    </tr>\n",
       "    <tr>\n",
       "      <th>3</th>\n",
       "      <td>2018-07-21 04:53:01</td>\n",
       "      <td>0</td>\n",
       "      <td>0</td>\n",
       "      <td>0</td>\n",
       "      <td>1</td>\n",
       "      <td>0</td>\n",
       "      <td>0</td>\n",
       "      <td>0</td>\n",
       "      <td>0</td>\n",
       "      <td>0</td>\n",
       "      <td>...</td>\n",
       "      <td>0</td>\n",
       "      <td>0</td>\n",
       "      <td>0</td>\n",
       "      <td>0</td>\n",
       "      <td>0</td>\n",
       "      <td>0</td>\n",
       "      <td>0</td>\n",
       "      <td>0</td>\n",
       "      <td>0</td>\n",
       "      <td>0</td>\n",
       "    </tr>\n",
       "    <tr>\n",
       "      <th>4</th>\n",
       "      <td>2018-07-21 04:53:04</td>\n",
       "      <td>0</td>\n",
       "      <td>0</td>\n",
       "      <td>0</td>\n",
       "      <td>1</td>\n",
       "      <td>0</td>\n",
       "      <td>0</td>\n",
       "      <td>0</td>\n",
       "      <td>0</td>\n",
       "      <td>0</td>\n",
       "      <td>...</td>\n",
       "      <td>0</td>\n",
       "      <td>0</td>\n",
       "      <td>0</td>\n",
       "      <td>0</td>\n",
       "      <td>0</td>\n",
       "      <td>0</td>\n",
       "      <td>0</td>\n",
       "      <td>0</td>\n",
       "      <td>0</td>\n",
       "      <td>0</td>\n",
       "    </tr>\n",
       "  </tbody>\n",
       "</table>\n",
       "<p>5 rows × 258 columns</p>\n",
       "</div>"
      ],
      "text/plain": [
       "                 date  CBN_0 02  CBN_0 03  CBN_0 04  CBN_0 05  CBN_0 06  \\\n",
       "0 2018-07-21 04:52:46         0         0         0         1         0   \n",
       "1 2018-07-21 04:52:49         0         0         0         1         0   \n",
       "2 2018-07-21 04:52:57         0         0         0         1         0   \n",
       "3 2018-07-21 04:53:01         0         0         0         1         0   \n",
       "4 2018-07-21 04:53:04         0         0         0         1         0   \n",
       "\n",
       "   CBN_0 07  CBN_0 08  CBN_0 09  CBN_0 10  ...  CBN_X 06  CBN_X 07  CBN_X 08  \\\n",
       "0         0         0         0         0  ...         0         0         0   \n",
       "1         0         0         0         0  ...         0         0         0   \n",
       "2         0         0         0         0  ...         0         0         0   \n",
       "3         0         0         0         0  ...         0         0         0   \n",
       "4         0         0         0         0  ...         0         0         0   \n",
       "\n",
       "   CBN_X 09  CBN_X 10  CBN_X 11  CBN_X 12  CBN_Y  CBN_Z  CBN_j 04  \n",
       "0         0         0         0         0      0      0         0  \n",
       "1         0         0         0         0      0      0         0  \n",
       "2         0         0         0         0      0      0         0  \n",
       "3         0         0         0         0      0      0         0  \n",
       "4         0         0         0         0      0      0         0  \n",
       "\n",
       "[5 rows x 258 columns]"
      ]
     },
     "execution_count": 13,
     "metadata": {},
     "output_type": "execute_result"
    }
   ],
   "source": [
    "data.head()"
   ]
  },
  {
   "cell_type": "markdown",
   "metadata": {},
   "source": [
    "Formatage des input"
   ]
  },
  {
   "cell_type": "code",
   "execution_count": 14,
   "metadata": {},
   "outputs": [
    {
     "name": "stdout",
     "output_type": "stream",
     "text": [
      "Temps de création : 37.71 s\n"
     ]
    }
   ],
   "source": [
    "start = time.time()\n",
    "\n",
    "grouped_data = data.groupby(pd.Grouper(key=\"date\", freq=step_group)).sum()\n",
    "\n",
    "print(\"Temps de création : {:.2f} s\".format(time.time() - start))\n",
    "\n",
    "# Ajout d'un index\n",
    "grouped_data.reset_index(inplace=True)"
   ]
  },
  {
   "cell_type": "markdown",
   "metadata": {},
   "source": [
    "Ajout variable mois et jours de la semaine"
   ]
  },
  {
   "cell_type": "code",
   "execution_count": 15,
   "metadata": {},
   "outputs": [],
   "source": [
    "grouped_data['month'] = grouped_data['date'].apply(lambda x : x.month)\n",
    "grouped_data['weekday'] = grouped_data['date'].apply(lambda x : x.weekday())"
   ]
  },
  {
   "cell_type": "markdown",
   "metadata": {},
   "source": [
    "One hot encoding pour les varialbes jours de la semaine et mois"
   ]
  },
  {
   "cell_type": "code",
   "execution_count": 16,
   "metadata": {},
   "outputs": [],
   "source": [
    "grouped_data['month'] = pd.Categorical(grouped_data['month'])\n",
    "grouped_data['weekday'] = pd.Categorical(grouped_data['weekday'])\n",
    "\n",
    "# Créer les one hot encodings pour chaque variabble\n",
    "dfDummies_month = pd.get_dummies(grouped_data['month'], prefix = 'month')\n",
    "dfDummies_weekday = pd.get_dummies(grouped_data['weekday'], prefix = 'weekday')\n",
    "\n",
    "# Concatener les one hot encodings avec les données\n",
    "grouped_data = pd.concat([grouped_data, dfDummies_weekday, dfDummies_month], axis=1)\n",
    "\n",
    "# Suppression de la variable mois et jour de la semaine\n",
    "grouped_data.drop(columns=['month', 'weekday'], inplace=True)"
   ]
  },
  {
   "cell_type": "code",
   "execution_count": 17,
   "metadata": {},
   "outputs": [
    {
     "data": {
      "text/html": [
       "<div>\n",
       "<style scoped>\n",
       "    .dataframe tbody tr th:only-of-type {\n",
       "        vertical-align: middle;\n",
       "    }\n",
       "\n",
       "    .dataframe tbody tr th {\n",
       "        vertical-align: top;\n",
       "    }\n",
       "\n",
       "    .dataframe thead th {\n",
       "        text-align: right;\n",
       "    }\n",
       "</style>\n",
       "<table border=\"1\" class=\"dataframe\">\n",
       "  <thead>\n",
       "    <tr style=\"text-align: right;\">\n",
       "      <th></th>\n",
       "      <th>date</th>\n",
       "      <th>CBN_0 02</th>\n",
       "      <th>CBN_0 03</th>\n",
       "      <th>CBN_0 04</th>\n",
       "      <th>CBN_0 05</th>\n",
       "      <th>CBN_0 06</th>\n",
       "      <th>CBN_0 07</th>\n",
       "      <th>CBN_0 08</th>\n",
       "      <th>CBN_0 09</th>\n",
       "      <th>CBN_0 10</th>\n",
       "      <th>...</th>\n",
       "      <th>month_3</th>\n",
       "      <th>month_4</th>\n",
       "      <th>month_5</th>\n",
       "      <th>month_6</th>\n",
       "      <th>month_7</th>\n",
       "      <th>month_8</th>\n",
       "      <th>month_9</th>\n",
       "      <th>month_10</th>\n",
       "      <th>month_11</th>\n",
       "      <th>month_12</th>\n",
       "    </tr>\n",
       "  </thead>\n",
       "  <tbody>\n",
       "    <tr>\n",
       "      <th>0</th>\n",
       "      <td>2018-07-21 04:52:00</td>\n",
       "      <td>0</td>\n",
       "      <td>0</td>\n",
       "      <td>0</td>\n",
       "      <td>17</td>\n",
       "      <td>0</td>\n",
       "      <td>0</td>\n",
       "      <td>0</td>\n",
       "      <td>0</td>\n",
       "      <td>0</td>\n",
       "      <td>...</td>\n",
       "      <td>0</td>\n",
       "      <td>0</td>\n",
       "      <td>0</td>\n",
       "      <td>0</td>\n",
       "      <td>1</td>\n",
       "      <td>0</td>\n",
       "      <td>0</td>\n",
       "      <td>0</td>\n",
       "      <td>0</td>\n",
       "      <td>0</td>\n",
       "    </tr>\n",
       "    <tr>\n",
       "      <th>1</th>\n",
       "      <td>2018-07-21 04:54:00</td>\n",
       "      <td>0</td>\n",
       "      <td>0</td>\n",
       "      <td>0</td>\n",
       "      <td>14</td>\n",
       "      <td>0</td>\n",
       "      <td>0</td>\n",
       "      <td>0</td>\n",
       "      <td>0</td>\n",
       "      <td>0</td>\n",
       "      <td>...</td>\n",
       "      <td>0</td>\n",
       "      <td>0</td>\n",
       "      <td>0</td>\n",
       "      <td>0</td>\n",
       "      <td>1</td>\n",
       "      <td>0</td>\n",
       "      <td>0</td>\n",
       "      <td>0</td>\n",
       "      <td>0</td>\n",
       "      <td>0</td>\n",
       "    </tr>\n",
       "    <tr>\n",
       "      <th>2</th>\n",
       "      <td>2018-07-21 04:56:00</td>\n",
       "      <td>0</td>\n",
       "      <td>0</td>\n",
       "      <td>0</td>\n",
       "      <td>0</td>\n",
       "      <td>0</td>\n",
       "      <td>0</td>\n",
       "      <td>0</td>\n",
       "      <td>0</td>\n",
       "      <td>0</td>\n",
       "      <td>...</td>\n",
       "      <td>0</td>\n",
       "      <td>0</td>\n",
       "      <td>0</td>\n",
       "      <td>0</td>\n",
       "      <td>1</td>\n",
       "      <td>0</td>\n",
       "      <td>0</td>\n",
       "      <td>0</td>\n",
       "      <td>0</td>\n",
       "      <td>0</td>\n",
       "    </tr>\n",
       "    <tr>\n",
       "      <th>3</th>\n",
       "      <td>2018-07-21 04:58:00</td>\n",
       "      <td>0</td>\n",
       "      <td>0</td>\n",
       "      <td>0</td>\n",
       "      <td>0</td>\n",
       "      <td>0</td>\n",
       "      <td>0</td>\n",
       "      <td>0</td>\n",
       "      <td>0</td>\n",
       "      <td>0</td>\n",
       "      <td>...</td>\n",
       "      <td>0</td>\n",
       "      <td>0</td>\n",
       "      <td>0</td>\n",
       "      <td>0</td>\n",
       "      <td>1</td>\n",
       "      <td>0</td>\n",
       "      <td>0</td>\n",
       "      <td>0</td>\n",
       "      <td>0</td>\n",
       "      <td>0</td>\n",
       "    </tr>\n",
       "    <tr>\n",
       "      <th>4</th>\n",
       "      <td>2018-07-21 05:00:00</td>\n",
       "      <td>0</td>\n",
       "      <td>0</td>\n",
       "      <td>0</td>\n",
       "      <td>0</td>\n",
       "      <td>0</td>\n",
       "      <td>0</td>\n",
       "      <td>0</td>\n",
       "      <td>0</td>\n",
       "      <td>0</td>\n",
       "      <td>...</td>\n",
       "      <td>0</td>\n",
       "      <td>0</td>\n",
       "      <td>0</td>\n",
       "      <td>0</td>\n",
       "      <td>1</td>\n",
       "      <td>0</td>\n",
       "      <td>0</td>\n",
       "      <td>0</td>\n",
       "      <td>0</td>\n",
       "      <td>0</td>\n",
       "    </tr>\n",
       "  </tbody>\n",
       "</table>\n",
       "<p>5 rows × 277 columns</p>\n",
       "</div>"
      ],
      "text/plain": [
       "                 date  CBN_0 02  CBN_0 03  CBN_0 04  CBN_0 05  CBN_0 06  \\\n",
       "0 2018-07-21 04:52:00         0         0         0        17         0   \n",
       "1 2018-07-21 04:54:00         0         0         0        14         0   \n",
       "2 2018-07-21 04:56:00         0         0         0         0         0   \n",
       "3 2018-07-21 04:58:00         0         0         0         0         0   \n",
       "4 2018-07-21 05:00:00         0         0         0         0         0   \n",
       "\n",
       "   CBN_0 07  CBN_0 08  CBN_0 09  CBN_0 10  ...  month_3  month_4  month_5  \\\n",
       "0         0         0         0         0  ...        0        0        0   \n",
       "1         0         0         0         0  ...        0        0        0   \n",
       "2         0         0         0         0  ...        0        0        0   \n",
       "3         0         0         0         0  ...        0        0        0   \n",
       "4         0         0         0         0  ...        0        0        0   \n",
       "\n",
       "   month_6  month_7  month_8  month_9  month_10  month_11  month_12  \n",
       "0        0        1        0        0         0         0         0  \n",
       "1        0        1        0        0         0         0         0  \n",
       "2        0        1        0        0         0         0         0  \n",
       "3        0        1        0        0         0         0         0  \n",
       "4        0        1        0        0         0         0         0  \n",
       "\n",
       "[5 rows x 277 columns]"
      ]
     },
     "execution_count": 17,
     "metadata": {},
     "output_type": "execute_result"
    }
   ],
   "source": [
    "grouped_data.head()"
   ]
  },
  {
   "cell_type": "markdown",
   "metadata": {},
   "source": [
    "Indices pour sélection les lignes"
   ]
  },
  {
   "cell_type": "code",
   "execution_count": 21,
   "metadata": {},
   "outputs": [],
   "source": [
    "index_delta_train = pd.Timedelta(delta_train).seconds // pd.Timedelta(step_group).seconds\n",
    "index_delta_prediction = pd.Timedelta(delta_prediction).seconds // pd.Timedelta(step_group).seconds\n",
    "index_window_slide = pd.Timedelta(window_slide).seconds // pd.Timedelta(step_group).seconds"
   ]
  },
  {
   "cell_type": "markdown",
   "metadata": {},
   "source": [
    "Initialisation des listes vide"
   ]
  },
  {
   "cell_type": "code",
   "execution_count": 22,
   "metadata": {},
   "outputs": [],
   "source": [
    "X = list()\n",
    "y = list()"
   ]
  },
  {
   "cell_type": "markdown",
   "metadata": {},
   "source": [
    "Ajout des variables d'entrainement dans ces listes"
   ]
  },
  {
   "cell_type": "code",
   "execution_count": 23,
   "metadata": {},
   "outputs": [
    {
     "name": "stdout",
     "output_type": "stream",
     "text": [
      "Temps d'exécution : 5.0 s\n"
     ]
    }
   ],
   "source": [
    "start = time.time()\n",
    "\n",
    "index = 0\n",
    "\n",
    "while (index + index_delta_train < grouped_data.shape[0]) and (index+index_delta_prediction < grouped_data.shape[0]):\n",
    "    index_end = index+index_delta_train\n",
    "    X.append(list(grouped_data.iloc[index:index_end].values))\n",
    "    y.append(list(grouped_data.iloc[index_end:index_end+index_delta_prediction, 1:-(7+12)].sum().values))\n",
    "    index += index_window_slide\n",
    "    \n",
    "print(\"Temps d'exécution : {:.2} s\".format(time.time()-start))"
   ]
  },
  {
   "cell_type": "markdown",
   "metadata": {},
   "source": [
    "On passe les variables au format numpy array"
   ]
  },
  {
   "cell_type": "code",
   "execution_count": 24,
   "metadata": {},
   "outputs": [],
   "source": [
    "X = np.array(X)\n",
    "y = np.array(y)"
   ]
  },
  {
   "cell_type": "markdown",
   "metadata": {},
   "source": [
    "Séparation des données entre le training set (90%) et le test set (10%)"
   ]
  },
  {
   "cell_type": "code",
   "execution_count": 34,
   "metadata": {},
   "outputs": [],
   "source": [
    "# Test set\n",
    "X_trainval, X_test, y_trainval, y_test = train_test_split(X, y, test_size=0.1, random_state=1)\n",
    "\n",
    "date_test = X_test[:,:,0].flatten()\n",
    "X_test = np.delete(X_test, 0, axis=2)\n",
    "\n",
    "\n",
    "# Train and dev set\n",
    "X_train, X_val, y_train, y_val = train_test_split(X_trainval, y_trainval, test_size=0.1, random_state=1)\n",
    "\n",
    "date_train = X_train[:,:,0].flatten()\n",
    "X_train = np.delete(X_train, 0, axis=2)\n",
    "\n",
    "date_val = X_val[:,:,0].flatten()\n",
    "X_val = np.delete(X_val, 0, axis=2)"
   ]
  },
  {
   "cell_type": "markdown",
   "metadata": {},
   "source": [
    "Sauvegarde des données"
   ]
  },
  {
   "cell_type": "code",
   "execution_count": 35,
   "metadata": {},
   "outputs": [],
   "source": [
    "out_dir_path = \"inputs/group{}_dtrain{}_dpred{}_window{}\".format(step_group, delta_train, delta_prediction, window_slide)\n",
    "\n",
    "# Si le dossier n'existe pas on le crée\n",
    "if not os.path.isdir(out_dir_path):\n",
    "    os.mkdir(out_dir_path)\n",
    "    \n",
    "# Sauvegarde des tableaux numpy\n",
    "np.save(out_dir_path+\"/X_train\", X_train)\n",
    "np.save(out_dir_path+\"/y_train\", y_train)\n",
    "np.save(out_dir_path+\"/date_train\", date_train)\n",
    "np.save(out_dir_path+\"/X_test\", X_test)\n",
    "np.save(out_dir_path+\"/y_test\", y_test)\n",
    "np.save(out_dir_path+\"/date_test\", date_test)\n",
    "np.save(out_dir_path+\"/X_val\", X_val)\n",
    "np.save(out_dir_path+\"/y_val\", y_val)\n",
    "np.save(out_dir_path+\"/date_val\", date_val)"
   ]
  }
 ],
 "metadata": {
  "kernelspec": {
   "display_name": "3_ML_DL",
   "language": "python",
   "name": "3_ml_dl"
  },
  "language_info": {
   "codemirror_mode": {
    "name": "ipython",
    "version": 3
   },
   "file_extension": ".py",
   "mimetype": "text/x-python",
   "name": "python",
   "nbconvert_exporter": "python",
   "pygments_lexer": "ipython3",
   "version": "3.7.4"
  }
 },
 "nbformat": 4,
 "nbformat_minor": 2
}
