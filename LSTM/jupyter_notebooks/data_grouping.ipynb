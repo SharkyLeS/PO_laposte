{
 "cells": [
  {
   "cell_type": "markdown",
   "metadata": {},
   "source": [
    "# Regroupement des données par un pas de temps"
   ]
  },
  {
   "cell_type": "code",
   "execution_count": null,
   "metadata": {},
   "outputs": [],
   "source": [
    "import pandas as pd\n",
    "import numpy as np"
   ]
  },
  {
   "cell_type": "markdown",
   "metadata": {},
   "source": [
    "#### Paramètres"
   ]
  },
  {
   "cell_type": "code",
   "execution_count": null,
   "metadata": {},
   "outputs": [],
   "source": [
    "data_path = \"data/data_processed.csv\"\n",
    "step_group = \"90min\"\n",
    "out_path = \"data/data_processed_{}_257\".format(step_group)"
   ]
  },
  {
   "cell_type": "markdown",
   "metadata": {},
   "source": [
    "#### Chargement et one hot CBN"
   ]
  },
  {
   "cell_type": "code",
   "execution_count": null,
   "metadata": {},
   "outputs": [],
   "source": [
    "data = pd.read_csv(data_path)\n",
    "\n",
    "data['date'] = data['date'].apply(lambda x : pd.Timestamp(x))\n",
    "\n",
    "data['CBN'] = pd.Categorical(data['CBN'])\n",
    "\n",
    "# Créer les one hot encodings pour chaque variabble\n",
    "dfDummies_cbn = pd.get_dummies(data['CBN'], prefix = 'CBN')\n",
    "\n",
    "# Concatener les one hot encodings avec les données\n",
    "data = pd.concat([data, dfDummies_cbn], axis=1)\n",
    "\n",
    "# Suppression de la variable CBBN\n",
    "data.drop(columns=['CBN'], inplace=True)\n",
    "\n",
    "# On ordonne les data par \"date\"\n",
    "data.sort_values(by='date', inplace=True)\n",
    "\n",
    "# Réindexage des lignes\n",
    "data.reset_index(inplace=True)\n",
    "data.drop(columns=['index'], inplace=True)"
   ]
  },
  {
   "cell_type": "code",
   "execution_count": null,
   "metadata": {},
   "outputs": [],
   "source": [
    "data.head()"
   ]
  },
  {
   "cell_type": "markdown",
   "metadata": {},
   "source": [
    "#### Groupement  des Data"
   ]
  },
  {
   "cell_type": "code",
   "execution_count": null,
   "metadata": {},
   "outputs": [],
   "source": [
    "grouped_data = data.groupby(pd.Grouper(key=\"date\", freq=step_group)).sum()\n",
    "\n",
    "grouped_data.reset_index(inplace=True)"
   ]
  },
  {
   "cell_type": "code",
   "execution_count": null,
   "metadata": {},
   "outputs": [],
   "source": [
    "grouped_data.head()"
   ]
  },
  {
   "cell_type": "markdown",
   "metadata": {},
   "source": [
    "#### Ajout variables jour seamine, mois et heure"
   ]
  },
  {
   "cell_type": "code",
   "execution_count": null,
   "metadata": {},
   "outputs": [],
   "source": [
    "# Ajout variables\n",
    "grouped_data['month'] = grouped_data['date'].apply(lambda x : x.month)\n",
    "grouped_data['weekday'] = grouped_data['date'].apply(lambda x : x.weekday())\n",
    "grouped_data['hour'] = grouped_data['date'].apply(lambda x : x.hour)\n",
    "\n",
    "\n",
    "grouped_data['month'] = pd.Categorical(grouped_data['month'])\n",
    "grouped_data['weekday'] = pd.Categorical(grouped_data['weekday'])\n",
    "grouped_data['hour'] = pd.Categorical(grouped_data['hour'])\n",
    "\n",
    "# Créer les one hot encodings pour chaque variabble\n",
    "dfDummies_month = pd.get_dummies(grouped_data['month'], prefix = 'month')\n",
    "dfDummies_weekday = pd.get_dummies(grouped_data['weekday'], prefix = 'weekday')\n",
    "dfDummies_hour = pd.get_dummies(grouped_data['hour'], prefix = 'hour')\n",
    "\n",
    "# Concatener les one hot encodings avec les données\n",
    "grouped_data = pd.concat([grouped_data, dfDummies_weekday, dfDummies_month, dfDummies_hour], axis=1)\n",
    "\n",
    "# Suppression de la variable mois et jour de la semaine\n",
    "grouped_data.drop(columns=['month', 'weekday', 'hour'], inplace=True)"
   ]
  },
  {
   "cell_type": "code",
   "execution_count": null,
   "metadata": {},
   "outputs": [],
   "source": [
    "grouped_data.to_csv(out_path, index=False)"
   ]
  },
  {
   "cell_type": "markdown",
   "metadata": {},
   "source": [
    "### Test"
   ]
  },
  {
   "cell_type": "code",
   "execution_count": null,
   "metadata": {},
   "outputs": [],
   "source": [
    "test_df = pd.read_csv(out_path)\n",
    "\n",
    "test_df.head()"
   ]
  }
 ],
 "metadata": {
  "kernelspec": {
   "display_name": "3_ML_DL",
   "language": "python",
   "name": "3_ml_dl"
  },
  "language_info": {
   "codemirror_mode": {
    "name": "ipython",
    "version": 3
   },
   "file_extension": ".py",
   "mimetype": "text/x-python",
   "name": "python",
   "nbconvert_exporter": "python",
   "pygments_lexer": "ipython3",
   "version": "3.7.4"
  }
 },
 "nbformat": 4,
 "nbformat_minor": 2
}
