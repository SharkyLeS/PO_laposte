{
 "cells": [
  {
   "cell_type": "code",
   "execution_count": 193,
   "metadata": {},
   "outputs": [],
   "source": [
    "#Liste des imports\n",
    "\n",
    "import numpy as np\n",
    "import torch\n",
    "import torch.nn as nn\n",
    "import torch.optim as optim\n"
   ]
  },
  {
   "cell_type": "code",
   "execution_count": 194,
   "metadata": {},
   "outputs": [
    {
     "name": "stdout",
     "output_type": "stream",
     "text": [
      "13423\n",
      "<class 'numpy.int32'>\n"
     ]
    }
   ],
   "source": [
    "#Récupérer les données \n",
    "\n",
    "label = np.load(\"Label.npy\")\n",
    "targetBac = np.load(\"targetBac.npy\")\n",
    "targetK7 =  np.load(\"targetK7.npy\")\n",
    "\n",
    "\n",
    "print(len(label))\n",
    "print(type(label[0][0]))"
   ]
  },
  {
   "cell_type": "code",
   "execution_count": 195,
   "metadata": {},
   "outputs": [],
   "source": [
    "#Paramètres\n",
    "\n",
    "input_size= len(label[0])\n",
    "hidden_dim = 1000\n",
    "n_layers = 10\n",
    "output_size = len(label[0])\n",
    "\n",
    "batch_size = 200\n",
    "num_epochs = 1000\n",
    "n_iter = num_epochs * (len(targetBac) / batch_size)\n",
    "n_iter = int(n_iter)\n"
   ]
  },
  {
   "cell_type": "code",
   "execution_count": 196,
   "metadata": {},
   "outputs": [
    {
     "name": "stdout",
     "output_type": "stream",
     "text": [
      "torch.Size([13422, 264])\n",
      "torch.Size([1, 13422, 264])\n"
     ]
    }
   ],
   "source": [
    "#Prep input bac\n",
    "input_seq = []\n",
    "targetBac_seq = []\n",
    "for i in range(len(label)-1):\n",
    "    #input_seq.append([label[i],targetBac[i]])\n",
    "    #targetBac_seq.append([label[i+1],targetBac[i+1]])\n",
    "    input_seq.append(np.concatenate((label[i],targetBac[i]),axis=0))\n",
    "    targetBac_seq.append(np.concatenate((label[i+1],targetBac[i+1]),axis=0))\n",
    "    \n",
    "input_seq = torch.from_numpy(np.asarray(input_seq))\n",
    "targetBac_seq = torch.from_numpy(np.asarray(targetBac_seq))\n",
    "print(input_seq.size())\n",
    "\n",
    "#Adding an axis to input \n",
    "input_seq = input_seq[None,:,:]\n",
    "targetBac_seq = targetBac_seq[None,:,:]\n",
    "\n",
    "input_seq  = input_seq.float()\n",
    "targetBac_seq = targetBac_seq.float()\n",
    "\n",
    "\n",
    "print(input_seq.size())"
   ]
  },
  {
   "cell_type": "code",
   "execution_count": 197,
   "metadata": {},
   "outputs": [
    {
     "name": "stdout",
     "output_type": "stream",
     "text": [
      "GPU not available, CPU used\n"
     ]
    }
   ],
   "source": [
    "# torch.cuda.is_available() checks and returns a Boolean True if a GPU is available, else it'll return False\n",
    "is_cuda = torch.cuda.is_available()\n",
    "\n",
    "if is_cuda:\n",
    "    device = torch.device(\"cuda\")\n",
    "    print(\"GPU is available\")\n",
    "else:\n",
    "    device = torch.device(\"cpu\")\n",
    "    print(\"GPU not available, CPU used\")"
   ]
  },
  {
   "cell_type": "code",
   "execution_count": 198,
   "metadata": {},
   "outputs": [],
   "source": [
    "class Model(nn.Module):\n",
    "    def __init__(self, input_size, output_size, hidden_dim, n_layers):\n",
    "        super(Model, self).__init__()\n",
    "\n",
    "        # Defining some parameters\n",
    "        self.hidden_dim = hidden_dim\n",
    "        self.n_layers = n_layers\n",
    "\n",
    "        # Defining the layers\n",
    "        # RNN Layer\n",
    "        self.rnn = nn.RNN(input_size, hidden_dim, n_layers)\n",
    "        # FC Layer\n",
    "        self.fc = nn.Linear(hidden_dim, output_size)\n",
    "\n",
    "\n",
    "    def forward(self, x):\n",
    "        batch_size = x.size(1)\n",
    "\n",
    "        # Initializing hidden state for thr first input using method defined below\n",
    "        hidden = self.init_hidden(batch_size)\n",
    "\n",
    "        # Passing in the input and hidden state into the model and obtaining output\n",
    "        out, hidden = self.rnn(x, hidden)\n",
    "\n",
    "        # Reshaping the outputs such that it can be fit into the FC Layer\n",
    "        out = out.contiguous().view(-1, self.hidden_dim)\n",
    "        out = self.fc(out)\n",
    "\n",
    "\n",
    "        return out, hidden\n",
    "\n",
    "    def init_hidden(self, batch_size):\n",
    "        # This method generates the first hidden state of zeros which we'll use in the forward pass\n",
    "        # We'll send the tensor holding the hidden state to the device we specified earlier as well\n",
    "        hidden = torch .zeros(self.n_layers, batch_size, self.hidden_dim)\n",
    "        return hidden"
   ]
  },
  {
   "cell_type": "code",
   "execution_count": 199,
   "metadata": {},
   "outputs": [],
   "source": [
    "model = Model(input_size=input_seq.size(2) , output_size=targetBac_seq.size(2), hidden_dim=hidden_dim, n_layers=n_layers)\n",
    "# We'll also set the model to the device that we defined earlier (default is CPU)\n",
    "model.to(device)\n",
    "\n",
    "\n",
    "# Define Loss, Optimizer\n",
    "lr=0.01\n",
    "criterion = nn.MSELoss()\n",
    "optimizer = torch.optim.Adam(model.parameters(), lr=lr)"
   ]
  },
  {
   "cell_type": "code",
   "execution_count": null,
   "metadata": {},
   "outputs": [
    {
     "name": "stdout",
     "output_type": "stream",
     "text": [
      "Epoch: 10/1000............. Loss: 6798.0068\n",
      "Epoch: 20/1000............. Loss: 6016.6626\n",
      "Epoch: 30/1000............. Loss: 5324.3774\n",
      "Epoch: 40/1000............. Loss: 4710.2407\n",
      "Epoch: 50/1000............. Loss: 4165.6167\n",
      "Epoch: 60/1000............. Loss: 3683.4792\n",
      "Epoch: 70/1000............. Loss: 3257.8630\n",
      "Epoch: 80/1000............. Loss: 2883.4846\n",
      "Epoch: 90/1000............. Loss: 2555.5105\n",
      "Epoch: 100/1000............. Loss: 2269.4370\n",
      "Epoch: 110/1000............. Loss: 2021.0436\n",
      "Epoch: 120/1000............. Loss: 1806.3679\n",
      "Epoch: 130/1000............. Loss: 1621.7145\n",
      "Epoch: 140/1000............. Loss: 1463.6537\n",
      "Epoch: 150/1000............. Loss: 1329.0129\n",
      "Epoch: 160/1000............. Loss: 1214.8931\n",
      "Epoch: 170/1000............. Loss: 1118.6527\n",
      "Epoch: 180/1000............. Loss: 1037.8900\n",
      "Epoch: 190/1000............. Loss: 970.4661\n",
      "Epoch: 200/1000............. Loss: 914.4666\n",
      "Epoch: 210/1000............. Loss: 868.1942\n",
      "Epoch: 220/1000............. Loss: 830.1541\n",
      "Epoch: 230/1000............. Loss: 799.0435\n",
      "Epoch: 240/1000............. Loss: 773.7316\n",
      "Epoch: 250/1000............. Loss: 753.2459\n",
      "Epoch: 260/1000............. Loss: 736.7505\n",
      "Epoch: 270/1000............. Loss: 723.5376\n",
      "Epoch: 280/1000............. Loss: 713.0087\n",
      "Epoch: 290/1000............. Loss: 704.6618\n",
      "Epoch: 300/1000............. Loss: 698.0926\n",
      "Epoch: 310/1000............. Loss: 692.9142\n",
      "Epoch: 320/1000............. Loss: 688.8828\n",
      "Epoch: 330/1000............. Loss: 685.7526\n",
      "Epoch: 340/1000............. Loss: 683.3344\n",
      "Epoch: 350/1000............. Loss: 681.4759\n",
      "Epoch: 360/1000............. Loss: 680.0550\n",
      "Epoch: 370/1000............. Loss: 678.9741\n",
      "Epoch: 380/1000............. Loss: 678.1561\n",
      "Epoch: 390/1000............. Loss: 677.5405\n",
      "Epoch: 400/1000............. Loss: 677.0851\n",
      "Epoch: 410/1000............. Loss: 676.7377\n",
      "Epoch: 420/1000............. Loss: 676.4844\n",
      "Epoch: 430/1000............. Loss: 676.2944\n",
      "Epoch: 440/1000............. Loss: 676.1669\n"
     ]
    }
   ],
   "source": [
    "# Training Run \n",
    "Loss = []\n",
    "Epoch = []\n",
    "for epoch in range(1, num_epochs + 1):\n",
    "    optimizer.zero_grad() # Clears existing gradients from previous epoch\n",
    "    input_seq.to(device)\n",
    "    output, hidden = model(input_seq)\n",
    "    loss = criterion(output, targetBac_seq[0])\n",
    "    loss.backward() # Does backpropagation and calculates gradients\n",
    "    optimizer.step()\n",
    "\n",
    "    if epoch%10 == 0:\n",
    "        print('Epoch: {}/{}.............'.format(epoch, num_epochs), end=' ')\n",
    "        print(\"Loss: {:.4f}\".format(loss.item()))\n",
    "        Loss.append(loss.item)\n",
    "        Epoch.append(epoch)\n",
    "        \n",
    "        "
   ]
  },
  {
   "cell_type": "code",
   "execution_count": null,
   "metadata": {},
   "outputs": [],
   "source": [
    "#Plot results\n",
    "import matplotlib.pyplot as plt\n",
    "plt.plot(Epoch,Loss)\n",
    "plt.show"
   ]
  },
  {
   "cell_type": "code",
   "execution_count": null,
   "metadata": {},
   "outputs": [],
   "source": [
    "print(input_seq.size())"
   ]
  },
  {
   "cell_type": "code",
   "execution_count": null,
   "metadata": {},
   "outputs": [],
   "source": [
    "print(targetBac_seq.long())"
   ]
  },
  {
   "cell_type": "code",
   "execution_count": null,
   "metadata": {},
   "outputs": [],
   "source": []
  }
 ],
 "metadata": {
  "kernelspec": {
   "display_name": "Python 3",
   "language": "python",
   "name": "python3"
  },
  "language_info": {
   "codemirror_mode": {
    "name": "ipython",
    "version": 3
   },
   "file_extension": ".py",
   "mimetype": "text/x-python",
   "name": "python",
   "nbconvert_exporter": "python",
   "pygments_lexer": "ipython3",
   "version": "3.7.4"
  }
 },
 "nbformat": 4,
 "nbformat_minor": 2
}
