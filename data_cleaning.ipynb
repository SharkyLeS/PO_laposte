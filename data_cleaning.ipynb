{
 "cells": [
  {
   "cell_type": "markdown",
   "metadata": {},
   "source": [
    "# Nettoyage des données"
   ]
  },
  {
   "cell_type": "markdown",
   "metadata": {},
   "source": [
    "Import des modules"
   ]
  },
  {
   "cell_type": "code",
   "execution_count": 2,
   "metadata": {},
   "outputs": [],
   "source": [
    "import numpy as np\n",
    "import pandas as pd\n",
    "import time\n",
    "import matplotlib.pyplot as plt\n",
    "\n",
    "# Display plots inline and change default figure size\n",
    "%matplotlib inline\n",
    "plt.rcParams['figure.figsize'] = (10.0, 8.0)"
   ]
  },
  {
   "cell_type": "markdown",
   "metadata": {},
   "source": [
    "Import des données (prends plusieurs minutes)"
   ]
  },
  {
   "cell_type": "code",
   "execution_count": 3,
   "metadata": {},
   "outputs": [
    {
     "name": "stderr",
     "output_type": "stream",
     "text": [
      "/Users/gauthier/workspace/py_env/3_ML_DL/lib/python3.7/site-packages/IPython/core/interactiveshell.py:3058: DtypeWarning: Columns (4,6) have mixed types. Specify dtype option on import or set low_memory=False.\n",
      "  interactivity=interactivity, compiler=compiler, result=result)\n"
     ]
    },
    {
     "name": "stdout",
     "output_type": "stream",
     "text": [
      "Temps de chargement: 21.795127153396606 s\n"
     ]
    }
   ],
   "source": [
    "tic = time.time()\n",
    "data = pd.read_csv('data/data_18_19_orig.csv')\n",
    "tac = time.time()\n",
    "\n",
    "print(\"Temps de chargement: \" + str(tac-tic) + \" s\")"
   ]
  },
  {
   "cell_type": "code",
   "execution_count": 4,
   "metadata": {},
   "outputs": [
    {
     "data": {
      "text/html": [
       "<div>\n",
       "<style scoped>\n",
       "    .dataframe tbody tr th:only-of-type {\n",
       "        vertical-align: middle;\n",
       "    }\n",
       "\n",
       "    .dataframe tbody tr th {\n",
       "        vertical-align: top;\n",
       "    }\n",
       "\n",
       "    .dataframe thead th {\n",
       "        text-align: right;\n",
       "    }\n",
       "</style>\n",
       "<table border=\"1\" class=\"dataframe\">\n",
       "  <thead>\n",
       "    <tr style=\"text-align: right;\">\n",
       "      <th></th>\n",
       "      <th>CAB</th>\n",
       "      <th>Date de passage</th>\n",
       "      <th>Date de sortie</th>\n",
       "      <th>Emetteur</th>\n",
       "      <th>Code Regate Emetteur</th>\n",
       "      <th>Destination</th>\n",
       "      <th>Code Regate Destinataire</th>\n",
       "      <th>Produit</th>\n",
       "      <th>Traitement</th>\n",
       "      <th>Code traitement</th>\n",
       "      <th>Contenant</th>\n",
       "      <th>Injecteur</th>\n",
       "      <th>Sortie</th>\n",
       "      <th>Rejet</th>\n",
       "      <th>CAB fonctionnel</th>\n",
       "      <th>CBN</th>\n",
       "    </tr>\n",
       "  </thead>\n",
       "  <tbody>\n",
       "    <tr>\n",
       "      <th>0</th>\n",
       "      <td>2013373309901180831677726030</td>\n",
       "      <td>2018-08-01 06:00:48</td>\n",
       "      <td>2018-08-01 06:01:34</td>\n",
       "      <td>BORDEAUX PIC</td>\n",
       "      <td>337330</td>\n",
       "      <td>TRI MANUEL 2</td>\n",
       "      <td>990118</td>\n",
       "      <td>LETTRE</td>\n",
       "      <td>TRI MANUEL TG2</td>\n",
       "      <td>26.0</td>\n",
       "      <td>ké7</td>\n",
       "      <td>11.0</td>\n",
       "      <td>37</td>\n",
       "      <td>NON</td>\n",
       "      <td>-01------99011808------26-30</td>\n",
       "      <td>non trouvé</td>\n",
       "    </tr>\n",
       "    <tr>\n",
       "      <th>1</th>\n",
       "      <td>2013373303323100831677937017</td>\n",
       "      <td>2018-08-01 06:00:51</td>\n",
       "      <td>2018-08-01 06:01:32</td>\n",
       "      <td>BORDEAUX PIC</td>\n",
       "      <td>337330</td>\n",
       "      <td>BORDEAUX PDC1</td>\n",
       "      <td>332310</td>\n",
       "      <td>LETTRE</td>\n",
       "      <td>TRI CODE POSTAL</td>\n",
       "      <td>37.0</td>\n",
       "      <td>ké7</td>\n",
       "      <td>11.0</td>\n",
       "      <td>LV17</td>\n",
       "      <td>NON</td>\n",
       "      <td>-01------33231008------37-17</td>\n",
       "      <td>Q 03</td>\n",
       "    </tr>\n",
       "    <tr>\n",
       "      <th>2</th>\n",
       "      <td>2013373309901180821853326030</td>\n",
       "      <td>2018-08-01 06:03:31</td>\n",
       "      <td>2018-08-01 06:04:17</td>\n",
       "      <td>BORDEAUX PIC</td>\n",
       "      <td>337330</td>\n",
       "      <td>TRI MANUEL 2</td>\n",
       "      <td>990118</td>\n",
       "      <td>LETTRE</td>\n",
       "      <td>TRI MANUEL TG2</td>\n",
       "      <td>26.0</td>\n",
       "      <td>ké7</td>\n",
       "      <td>11.0</td>\n",
       "      <td>37</td>\n",
       "      <td>NON</td>\n",
       "      <td>-01------99011808------26-30</td>\n",
       "      <td>non trouvé</td>\n",
       "    </tr>\n",
       "    <tr>\n",
       "      <th>3</th>\n",
       "      <td>2223373303373300349894290000</td>\n",
       "      <td>2018-08-01 06:10:55</td>\n",
       "      <td>2018-08-01 06:11:02</td>\n",
       "      <td>BORDEAUX PIC</td>\n",
       "      <td>337330</td>\n",
       "      <td>BORDEAUX PIC</td>\n",
       "      <td>337330</td>\n",
       "      <td>ECOPLI</td>\n",
       "      <td>TRI LECTEUR AUTO TOUS FLUX</td>\n",
       "      <td>90.0</td>\n",
       "      <td>bak</td>\n",
       "      <td>NaN</td>\n",
       "      <td>MTIGF02</td>\n",
       "      <td>NON</td>\n",
       "      <td>-22------33733003------90-00</td>\n",
       "      <td>non trouvé</td>\n",
       "    </tr>\n",
       "    <tr>\n",
       "      <th>4</th>\n",
       "      <td>2223373303373300349894390000</td>\n",
       "      <td>2018-08-01 06:10:57</td>\n",
       "      <td>2018-08-01 06:11:03</td>\n",
       "      <td>BORDEAUX PIC</td>\n",
       "      <td>337330</td>\n",
       "      <td>BORDEAUX PIC</td>\n",
       "      <td>337330</td>\n",
       "      <td>ECOPLI</td>\n",
       "      <td>TRI LECTEUR AUTO TOUS FLUX</td>\n",
       "      <td>90.0</td>\n",
       "      <td>bak</td>\n",
       "      <td>NaN</td>\n",
       "      <td>MTIGF02</td>\n",
       "      <td>NON</td>\n",
       "      <td>-22------33733003------90-00</td>\n",
       "      <td>non trouvé</td>\n",
       "    </tr>\n",
       "  </tbody>\n",
       "</table>\n",
       "</div>"
      ],
      "text/plain": [
       "                              CAB      Date de passage       Date de sortie  \\\n",
       "0  2013373309901180831677726030    2018-08-01 06:00:48  2018-08-01 06:01:34   \n",
       "1  2013373303323100831677937017    2018-08-01 06:00:51  2018-08-01 06:01:32   \n",
       "2  2013373309901180821853326030    2018-08-01 06:03:31  2018-08-01 06:04:17   \n",
       "3  2223373303373300349894290000    2018-08-01 06:10:55  2018-08-01 06:11:02   \n",
       "4  2223373303373300349894390000    2018-08-01 06:10:57  2018-08-01 06:11:03   \n",
       "\n",
       "       Emetteur Code Regate Emetteur    Destination Code Regate Destinataire  \\\n",
       "0  BORDEAUX PIC               337330   TRI MANUEL 2                   990118   \n",
       "1  BORDEAUX PIC               337330  BORDEAUX PDC1                   332310   \n",
       "2  BORDEAUX PIC               337330   TRI MANUEL 2                   990118   \n",
       "3  BORDEAUX PIC               337330   BORDEAUX PIC                   337330   \n",
       "4  BORDEAUX PIC               337330   BORDEAUX PIC                   337330   \n",
       "\n",
       "  Produit                  Traitement  Code traitement Contenant  Injecteur  \\\n",
       "0  LETTRE              TRI MANUEL TG2             26.0       ké7       11.0   \n",
       "1  LETTRE             TRI CODE POSTAL             37.0       ké7       11.0   \n",
       "2  LETTRE              TRI MANUEL TG2             26.0       ké7       11.0   \n",
       "3  ECOPLI  TRI LECTEUR AUTO TOUS FLUX             90.0       bak        NaN   \n",
       "4  ECOPLI  TRI LECTEUR AUTO TOUS FLUX             90.0       bak        NaN   \n",
       "\n",
       "    Sortie Rejet               CAB fonctionnel         CBN  \n",
       "0  37        NON  -01------99011808------26-30  non trouvé  \n",
       "1  LV17      NON  -01------33231008------37-17        Q 03  \n",
       "2  37        NON  -01------99011808------26-30  non trouvé  \n",
       "3  MTIGF02   NON  -22------33733003------90-00  non trouvé  \n",
       "4  MTIGF02   NON  -22------33733003------90-00  non trouvé  "
      ]
     },
     "execution_count": 4,
     "metadata": {},
     "output_type": "execute_result"
    }
   ],
   "source": [
    "data.head()"
   ]
  },
  {
   "cell_type": "markdown",
   "metadata": {},
   "source": [
    "Dates au format Timestamp"
   ]
  },
  {
   "cell_type": "code",
   "execution_count": 5,
   "metadata": {},
   "outputs": [],
   "source": [
    "data['Date de passage'] = data['Date de passage'].apply(lambda x: pd.Timestamp(x))\n",
    "data['Date de sortie'] = data['Date de sortie'].apply(lambda x: pd.Timestamp(x))"
   ]
  },
  {
   "cell_type": "markdown",
   "metadata": {},
   "source": [
    "## Nettoyage des codes CBN\n",
    "\n",
    "Affichage des codes batailles navales. Les codes commençant par un \"O\" sont rentrés avec un \"0\" (zéro)."
   ]
  },
  {
   "cell_type": "code",
   "execution_count": 6,
   "metadata": {},
   "outputs": [
    {
     "data": {
      "text/plain": [
       "array(['non trouvé', 'Q 03', '0 05', 'ligne vide', '0 09', '0 06', '0 03',\n",
       "       '0 04', '0 02', 'G 01', 'C 01', 'CAB nul', 'N 03', 'L 01', '0 11',\n",
       "       '0 07', '0 10', 'D 02', 'F 01', '0 08', 'N 02', 'T 02', 'N 11',\n",
       "       'Y', 'A 04/ A 06', 'W 04', 'D 01', 'A 08', 'BRIN A', 'B 03', 'Z',\n",
       "       'S 05', 'V 09', 'BRIN B', 'H 06', 'C 02', 'X 01/X 02', 'M 10',\n",
       "       'H 09', 'Q 01', 'I 03/I 04/I 05/I 06/I 07/I 08', 'V 08', 'W 01',\n",
       "       'M 12', 'M 07', 'F 04', 'G 05', 'E 12', 'U 09', 'M 05', 'D 10',\n",
       "       'E 11', 'D 07', 'E 06', 'K 04', 'W 05', 'W 03', 'A 07', 'K 05',\n",
       "       'K 02', 'N 01', 'G 04', 'E 10', 'W 02', 'K 06', 'J 03',\n",
       "       'C 04/C 05', 'V 02', 'BRIN C', 'B 05/B 06', 'S 09', 'H 11', 'D 04',\n",
       "       'T 06/T 07', 'F 08', 'W 06', 'V 03', 'A 10', 'J 02', 'J 01',\n",
       "       'L 10', 'S 01', 'D 09', 'U 11', 'V 04', 'V 01', 'I 02', 'D 06',\n",
       "       'S 04', 'V 06', 'B 08', 'M 03', 'I 11/I 12', 'I 10', 'B 09',\n",
       "       'I 11', 'S 02', 'H 08', 'S 03', 'I 12', 'E 03/E 04', '0 12',\n",
       "       'V 05', 'H 07', 'P 01', 'X 12', 'H 02', 'K 09', 'P 04', 'P 07',\n",
       "       'P 05', 'P 11', 'N 08', 'J 05', 'U 08', 'J 06', 'J 10', 'K 08',\n",
       "       'S 08', 'Q 08', 'J 08', 'T 01', 'P 10', 'L 05', 'L 07', 'Q 09',\n",
       "       'G 07', 'V 10', 'G 08', 'H 03', 'X 05', 'H 04', 'N 04', 'Q 05',\n",
       "       'L 02', 'P 08', 'J 09', 'U 04/U 05', 'L 04', 'X 10', 'X 11',\n",
       "       'N 05/N 10', 'L 03', 'F 07', 'F 09', 'G 09', 'M 06/M 09', 'U 10',\n",
       "       'Q 06', 'M 04', 'j 04', 'G 10', 'X 08', 'J 07', 'K 11', 'N 06',\n",
       "       'T 04', 'U 05/U 07', 'L 08/ L 09/ L 11', 'X 09', 'N 09', 'G 12',\n",
       "       'P 06', 'J 11', 'X 06', 'G 11', 'G 06', 'G 03', 'E 05', 'M 08',\n",
       "       'R 03', 'I 05', 'H 10', 'X 07', 'T 07', 'U 01/U 03/U 06', 'C 03',\n",
       "       'K 07', 'A 09', 'A 04', 'S 07', 'H 12', 'P 03', 'K 03', 'S 11',\n",
       "       'P 09', 'C 07', 'B 10', 'D 05', 'L 06', 'E 02', 'R 01', 'W 08',\n",
       "       'V 11', 'K 12', 'T 05', 'S 10', 'W 07', 'E 07', 'Q 04', 'K 01',\n",
       "       'T 03', 'U 02', 'C 09', 'B 02', 'E 09', 'F 02', 'F 03',\n",
       "       'U 03/U 06', 'M 02', 'E 01', 'F 06/F 10', 'A 04 TD', 'H 02 TD',\n",
       "       'J 01 TD', 'I 01 TD', 'M 01', 'D 11', 'I 9/I 11', 'S 06', 'E 08',\n",
       "       'I 01', 'B 04/B 07', 'D 03', 'F 05', 'K 10', 'R 04/R 05/R 06/R 07',\n",
       "       'U 05/U 06', 'R 12', 'X 04', 'X 03', 'B 05 TD', 'A 07 TD',\n",
       "       'A 08 TD', 'G 03 TD', 'A 05 TD', 'I 02 TD', 'C 06/C 08', 'U 03',\n",
       "       'L 08', 'M 09', 'R 08', 'C 03/C 06', 'A 04/ A 05',\n",
       "       'B 05/ B 06/B 09', 'R 02', 'A 06 TD', 'R 11', 'N 07', 'D 04 TD',\n",
       "       'U 06', 'V 07', 'U 01', 'D 08', 'B 04', 'R 09/R 10', 'U 07',\n",
       "       'B 05/B 07', 'G 02 TD', 'T 09', 'T 08', 'F 11', 'D 03 TD'],\n",
       "      dtype=object)"
      ]
     },
     "execution_count": 6,
     "metadata": {},
     "output_type": "execute_result"
    }
   ],
   "source": [
    "data['CBN'].unique()"
   ]
  },
  {
   "cell_type": "markdown",
   "metadata": {},
   "source": [
    "Analyse des codes suivants:\n",
    "    - 'non trouvé'\n",
    "    - 'ligne vide'"
   ]
  },
  {
   "cell_type": "code",
   "execution_count": 7,
   "metadata": {},
   "outputs": [
    {
     "name": "stdout",
     "output_type": "stream",
     "text": [
      "1513738 correspondent à un CBN 'non trouvé' soit 19 % des données.\n",
      "462201 correspondent à un CBN 'ligne vide' soit 6 % des données.\n",
      "\n",
      "\n",
      "Conclusion : 25 % des données ne sont pas utilisables\n"
     ]
    }
   ],
   "source": [
    "nb_nt = data[data['CBN'] == 'non trouvé'].shape[0]\n",
    "nb_vide = data[data['CBN'] == 'ligne vide'].shape[0]\n",
    "\n",
    "size = data.shape[0]\n",
    "\n",
    "print(str(nb_nt) + \" correspondent à un CBN 'non trouvé' soit \" +str(int(nb_nt/size*100))+ \" % des données.\")\n",
    "print(str(nb_vide) + \" correspondent à un CBN 'ligne vide' soit \" +str(int(nb_vide/size*100))+ \" % des données.\")\n",
    "print('\\n')\n",
    "\n",
    "print(\"Conclusion : \"+str(int((nb_nt+nb_vide)/size*100))+\" % des données ne sont pas utilisables\")"
   ]
  },
  {
   "cell_type": "markdown",
   "metadata": {},
   "source": [
    "Supression des lignes correspondantes à ces CBN:"
   ]
  },
  {
   "cell_type": "code",
   "execution_count": 7,
   "metadata": {},
   "outputs": [],
   "source": [
    "data = data[(data['CBN'] != 'ligne vide') & (data['CBN'] != 'non trouvé')]"
   ]
  },
  {
   "cell_type": "markdown",
   "metadata": {},
   "source": [
    "Les colonnes suivantes sont supprimées car inutiles à notre analyse:\n",
    "    - \"CAB\"\n",
    "    - \"Emetteur\"\n",
    "    - \"Code Regate Emetteur\"\n",
    "    - \"Destination\"\n",
    "    - \"Code Regate Destinataire\"\n",
    "    - \"Produit\"\n",
    "    - \"Traitement\"\n",
    "    - \"Code traitement\"\n",
    "    - \"Injecteur\"\n",
    "    - \"Sortie\""
   ]
  },
  {
   "cell_type": "code",
   "execution_count": 10,
   "metadata": {},
   "outputs": [],
   "source": [
    "data.drop(columns=['CAB', 'Emetteur', 'Code Regate Emetteur', 'Destination', 'Code Regate Destinataire', \\\n",
    "                  'Produit', 'Traitement', 'Code traitement', 'Injecteur', 'Sortie'], inplace=True)"
   ]
  },
  {
   "cell_type": "code",
   "execution_count": 19,
   "metadata": {},
   "outputs": [],
   "source": [
    "data.reset_index(inplace=True)"
   ]
  },
  {
   "cell_type": "code",
   "execution_count": 21,
   "metadata": {},
   "outputs": [
    {
     "data": {
      "text/html": [
       "<div>\n",
       "<style scoped>\n",
       "    .dataframe tbody tr th:only-of-type {\n",
       "        vertical-align: middle;\n",
       "    }\n",
       "\n",
       "    .dataframe tbody tr th {\n",
       "        vertical-align: top;\n",
       "    }\n",
       "\n",
       "    .dataframe thead th {\n",
       "        text-align: right;\n",
       "    }\n",
       "</style>\n",
       "<table border=\"1\" class=\"dataframe\">\n",
       "  <thead>\n",
       "    <tr style=\"text-align: right;\">\n",
       "      <th></th>\n",
       "      <th>index</th>\n",
       "      <th>Date de passage</th>\n",
       "      <th>Date de sortie</th>\n",
       "      <th>Contenant</th>\n",
       "      <th>Rejet</th>\n",
       "      <th>CAB fonctionnel</th>\n",
       "      <th>CBN</th>\n",
       "    </tr>\n",
       "  </thead>\n",
       "  <tbody>\n",
       "    <tr>\n",
       "      <th>0</th>\n",
       "      <td>1</td>\n",
       "      <td>2018-08-01 06:00:51</td>\n",
       "      <td>2018-08-01 06:01:32</td>\n",
       "      <td>ké7</td>\n",
       "      <td>NON</td>\n",
       "      <td>-01------33231008------37-17</td>\n",
       "      <td>Q 03</td>\n",
       "    </tr>\n",
       "    <tr>\n",
       "      <th>1</th>\n",
       "      <td>21</td>\n",
       "      <td>2018-08-01 06:18:43</td>\n",
       "      <td>2018-08-01 06:18:43</td>\n",
       "      <td>bak</td>\n",
       "      <td>NON</td>\n",
       "      <td>-01------99011903------51-00</td>\n",
       "      <td>0 05</td>\n",
       "    </tr>\n",
       "    <tr>\n",
       "      <th>2</th>\n",
       "      <td>22</td>\n",
       "      <td>2018-08-01 06:18:46</td>\n",
       "      <td>2018-08-01 06:18:46</td>\n",
       "      <td>bak</td>\n",
       "      <td>NON</td>\n",
       "      <td>-01------99011903------51-00</td>\n",
       "      <td>0 05</td>\n",
       "    </tr>\n",
       "    <tr>\n",
       "      <th>3</th>\n",
       "      <td>23</td>\n",
       "      <td>2018-08-01 06:18:51</td>\n",
       "      <td>2018-08-01 06:18:51</td>\n",
       "      <td>bak</td>\n",
       "      <td>NON</td>\n",
       "      <td>-01------99011903------51-00</td>\n",
       "      <td>0 05</td>\n",
       "    </tr>\n",
       "    <tr>\n",
       "      <th>4</th>\n",
       "      <td>24</td>\n",
       "      <td>2018-08-01 06:18:54</td>\n",
       "      <td>2018-08-01 06:18:54</td>\n",
       "      <td>bak</td>\n",
       "      <td>NON</td>\n",
       "      <td>-01------99011903------51-00</td>\n",
       "      <td>0 05</td>\n",
       "    </tr>\n",
       "  </tbody>\n",
       "</table>\n",
       "</div>"
      ],
      "text/plain": [
       "   index     Date de passage      Date de sortie Contenant Rejet  \\\n",
       "0      1 2018-08-01 06:00:51 2018-08-01 06:01:32       ké7   NON   \n",
       "1     21 2018-08-01 06:18:43 2018-08-01 06:18:43       bak   NON   \n",
       "2     22 2018-08-01 06:18:46 2018-08-01 06:18:46       bak   NON   \n",
       "3     23 2018-08-01 06:18:51 2018-08-01 06:18:51       bak   NON   \n",
       "4     24 2018-08-01 06:18:54 2018-08-01 06:18:54       bak   NON   \n",
       "\n",
       "                CAB fonctionnel   CBN  \n",
       "0  -01------33231008------37-17  Q 03  \n",
       "1  -01------99011903------51-00  0 05  \n",
       "2  -01------99011903------51-00  0 05  \n",
       "3  -01------99011903------51-00  0 05  \n",
       "4  -01------99011903------51-00  0 05  "
      ]
     },
     "execution_count": 21,
     "metadata": {},
     "output_type": "execute_result"
    }
   ],
   "source": [
    "data.head()"
   ]
  },
  {
   "cell_type": "code",
   "execution_count": null,
   "metadata": {},
   "outputs": [],
   "source": [
    "data.to_csv('data/data_18_19_clean.csv', index=False)"
   ]
  }
 ],
 "metadata": {
  "kernelspec": {
   "display_name": "3_ML_DL",
   "language": "python",
   "name": "3_ml_dl"
  },
  "language_info": {
   "codemirror_mode": {
    "name": "ipython",
    "version": 3
   },
   "file_extension": ".py",
   "mimetype": "text/x-python",
   "name": "python",
   "nbconvert_exporter": "python",
   "pygments_lexer": "ipython3",
   "version": "3.7.4"
  }
 },
 "nbformat": 4,
 "nbformat_minor": 2
}
